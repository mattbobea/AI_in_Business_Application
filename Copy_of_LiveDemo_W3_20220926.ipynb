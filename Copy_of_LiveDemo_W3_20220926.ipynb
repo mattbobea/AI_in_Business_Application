{
  "nbformat": 4,
  "nbformat_minor": 0,
  "metadata": {
    "colab": {
      "provenance": []
    },
    "kernelspec": {
      "name": "python3",
      "display_name": "Python 3"
    },
    "language_info": {
      "name": "python"
    }
  },
  "cells": [
    {
      "cell_type": "markdown",
      "source": [
        "# **Warm Up**"
      ],
      "metadata": {
        "id": "SsNvUBZlWxn6"
      }
    },
    {
      "cell_type": "code",
      "metadata": {
        "id": "U3_8BPhRYW_w",
        "colab": {
          "base_uri": "https://localhost:8080/"
        },
        "outputId": "b5f992a6-0fee-400c-d21c-e1de945778f1"
      },
      "source": [
        "[1,2,3,4,6]"
      ],
      "execution_count": null,
      "outputs": [
        {
          "output_type": "execute_result",
          "data": {
            "text/plain": [
              "[1, 2, 3, 4, 6]"
            ]
          },
          "metadata": {},
          "execution_count": 1
        }
      ]
    },
    {
      "cell_type": "code",
      "metadata": {
        "id": "M53ECqTrYboe",
        "colab": {
          "base_uri": "https://localhost:8080/"
        },
        "outputId": "06a57e88-7d40-4292-d7b3-3a0e6c751900"
      },
      "source": [
        "# [1,2,3,4,6]*2\n",
        "[1,2,3,4,6]*2"
      ],
      "execution_count": null,
      "outputs": [
        {
          "output_type": "execute_result",
          "data": {
            "text/plain": [
              "[1, 2, 3, 4, 6, 1, 2, 3, 4, 6]"
            ]
          },
          "metadata": {},
          "execution_count": 2
        }
      ]
    },
    {
      "cell_type": "code",
      "metadata": {
        "id": "9dbEJik2YksI"
      },
      "source": [
        "# to reuse the list, give a variable name for the list\n",
        "my_list = [1,2,3,4,6]"
      ],
      "execution_count": null,
      "outputs": []
    },
    {
      "cell_type": "code",
      "metadata": {
        "id": "zkFKoiZFY1ZF",
        "colab": {
          "base_uri": "https://localhost:8080/"
        },
        "outputId": "d01c2d3a-63fd-493b-b342-54768fd56ac6"
      },
      "source": [
        "my_list"
      ],
      "execution_count": null,
      "outputs": [
        {
          "output_type": "execute_result",
          "data": {
            "text/plain": [
              "[1, 2, 3, 4, 6]"
            ]
          },
          "metadata": {},
          "execution_count": 4
        }
      ]
    },
    {
      "cell_type": "markdown",
      "source": [
        "The range() function returns a sequence of numbers, starting from 0 by default, and increments by 1 (by default), and stops before a specified number.\n",
        "\n",
        "## *range(start, stop, step)*\n"
      ],
      "metadata": {
        "id": "v0duyzaQXIzv"
      }
    },
    {
      "cell_type": "code",
      "source": [
        "# how to generate a list from 1-5 etc?\n"
      ],
      "metadata": {
        "id": "NfHNCtisXFw9"
      },
      "execution_count": null,
      "outputs": []
    },
    {
      "cell_type": "code",
      "source": [
        "range(5)"
      ],
      "metadata": {
        "id": "jUNknST5XQ8E",
        "colab": {
          "base_uri": "https://localhost:8080/"
        },
        "outputId": "047850ca-ffc1-4836-e06a-4c96acd07ef3"
      },
      "execution_count": null,
      "outputs": [
        {
          "output_type": "execute_result",
          "data": {
            "text/plain": [
              "range(0, 5)"
            ]
          },
          "metadata": {},
          "execution_count": 5
        }
      ]
    },
    {
      "cell_type": "code",
      "source": [
        "print(*range(5))\n",
        "# * will print out results\n",
        "# pythons count eveything from 0"
      ],
      "metadata": {
        "id": "iGnSpLrZXRHP",
        "colab": {
          "base_uri": "https://localhost:8080/"
        },
        "outputId": "e2cddf20-56bc-4df6-d5d6-0832db430a82"
      },
      "execution_count": null,
      "outputs": [
        {
          "output_type": "stream",
          "name": "stdout",
          "text": [
            "0 1 2 3 4\n"
          ]
        }
      ]
    },
    {
      "cell_type": "code",
      "source": [
        "print(*range(1,11,1))"
      ],
      "metadata": {
        "id": "RC8SwnteXRTu",
        "colab": {
          "base_uri": "https://localhost:8080/"
        },
        "outputId": "9df985a5-da1e-493b-952d-d8ea6fb7e0f6"
      },
      "execution_count": null,
      "outputs": [
        {
          "output_type": "stream",
          "name": "stdout",
          "text": [
            "1 2 3 4 5 6 7 8 9 10\n"
          ]
        }
      ]
    },
    {
      "cell_type": "code",
      "source": [
        "print(*range(1,11,2))"
      ],
      "metadata": {
        "id": "_tUgmqisXRdo",
        "colab": {
          "base_uri": "https://localhost:8080/"
        },
        "outputId": "81b4b1b4-ea32-4987-a4c1-0af3113472d2"
      },
      "execution_count": null,
      "outputs": [
        {
          "output_type": "stream",
          "name": "stdout",
          "text": [
            "1 3 5 7 9\n"
          ]
        }
      ]
    },
    {
      "cell_type": "code",
      "source": [
        "print(*range(10,0,-1))"
      ],
      "metadata": {
        "colab": {
          "base_uri": "https://localhost:8080/"
        },
        "id": "8B0U-uQ94wW1",
        "outputId": "eb15e46f-9968-419a-9e02-43194b841ad0"
      },
      "execution_count": null,
      "outputs": [
        {
          "output_type": "stream",
          "name": "stdout",
          "text": [
            "10 9 8 7 6 5 4 3 2 1\n"
          ]
        }
      ]
    },
    {
      "cell_type": "code",
      "source": [
        "print(*range(10,0,-2))"
      ],
      "metadata": {
        "colab": {
          "base_uri": "https://localhost:8080/"
        },
        "id": "EnotesjK5BXG",
        "outputId": "fd09d56c-f381-4edb-bd2a-02cafe4cee6a"
      },
      "execution_count": null,
      "outputs": [
        {
          "output_type": "stream",
          "name": "stdout",
          "text": [
            "10 8 6 4 2\n"
          ]
        }
      ]
    },
    {
      "cell_type": "markdown",
      "metadata": {
        "id": "PeyV5wgNYQcV"
      },
      "source": [
        "# **Data Structure: Type \"List\"**"
      ]
    },
    {
      "cell_type": "code",
      "metadata": {
        "id": "kCvGotQ7ZNdP",
        "colab": {
          "base_uri": "https://localhost:8080/"
        },
        "outputId": "06008e83-daf7-42a8-e33a-4078dfdeae48"
      },
      "source": [
        "b = range(0,10,2)\n",
        "b = list(b)\n",
        "print(b)"
      ],
      "execution_count": null,
      "outputs": [
        {
          "output_type": "stream",
          "name": "stdout",
          "text": [
            "[0, 2, 4, 6, 8]\n"
          ]
        }
      ]
    },
    {
      "cell_type": "code",
      "metadata": {
        "id": "DSIpTQQNZvj7",
        "colab": {
          "base_uri": "https://localhost:8080/"
        },
        "outputId": "cb742d76-b8eb-4a34-a4c0-37cad6558937"
      },
      "source": [
        "b[1]"
      ],
      "execution_count": null,
      "outputs": [
        {
          "output_type": "execute_result",
          "data": {
            "text/plain": [
              "2"
            ]
          },
          "metadata": {},
          "execution_count": 14
        }
      ]
    },
    {
      "cell_type": "code",
      "metadata": {
        "id": "ObeuHZL-aLbk",
        "colab": {
          "base_uri": "https://localhost:8080/"
        },
        "outputId": "0d1df0db-58b0-497b-ebf1-39c5e7c80e99"
      },
      "source": [
        "b[0]\n",
        "# notice that python starts from 0, so 0 is include, 10 is not"
      ],
      "execution_count": null,
      "outputs": [
        {
          "output_type": "execute_result",
          "data": {
            "text/plain": [
              "0"
            ]
          },
          "metadata": {},
          "execution_count": 15
        }
      ]
    },
    {
      "cell_type": "code",
      "metadata": {
        "id": "Pp2zYfyBbUBb"
      },
      "source": [
        "# since python coutn from 0, \n",
        "# \n"
      ],
      "execution_count": null,
      "outputs": []
    },
    {
      "cell_type": "code",
      "metadata": {
        "id": "SDosTe4qbXRv",
        "colab": {
          "base_uri": "https://localhost:8080/"
        },
        "outputId": "978a15dd-2e7d-4f36-9cad-3ac1b667ae5e"
      },
      "source": [
        "b[-1]\n",
        "# useful when the dataset is large\n",
        "# and we want the last item"
      ],
      "execution_count": null,
      "outputs": [
        {
          "output_type": "execute_result",
          "data": {
            "text/plain": [
              "8"
            ]
          },
          "metadata": {},
          "execution_count": 16
        }
      ]
    },
    {
      "cell_type": "code",
      "metadata": {
        "id": "mY1HfUG9by13",
        "colab": {
          "base_uri": "https://localhost:8080/"
        },
        "outputId": "5dbebc46-5b45-49ba-9769-74c16f716206"
      },
      "source": [
        "# choose several items at the same time \":\"\n",
        "b[1:4]\n",
        "# choost the 1st item, and stop before 4th item"
      ],
      "execution_count": null,
      "outputs": [
        {
          "output_type": "execute_result",
          "data": {
            "text/plain": [
              "[2, 4, 6]"
            ]
          },
          "metadata": {},
          "execution_count": 17
        }
      ]
    },
    {
      "cell_type": "code",
      "metadata": {
        "id": "da1xl5RVcR3I",
        "colab": {
          "base_uri": "https://localhost:8080/",
          "height": 152
        },
        "outputId": "71006038-8aca-4365-fd20-25ed49beae2a"
      },
      "source": [
        "b(1:4)\n",
        "# cannot use \"()\""
      ],
      "execution_count": null,
      "outputs": [
        {
          "output_type": "error",
          "ename": "SyntaxError",
          "evalue": "ignored",
          "traceback": [
            "\u001b[0;36m  File \u001b[0;32m\"<ipython-input-18-eacf2481b059>\"\u001b[0;36m, line \u001b[0;32m1\u001b[0m\n\u001b[0;31m    b(1:4)\u001b[0m\n\u001b[0m       ^\u001b[0m\n\u001b[0;31mSyntaxError\u001b[0m\u001b[0;31m:\u001b[0m invalid syntax\n"
          ]
        }
      ]
    },
    {
      "cell_type": "code",
      "metadata": {
        "id": "L2m-39k-creV",
        "colab": {
          "base_uri": "https://localhost:8080/"
        },
        "outputId": "ab73c943-0d0a-4b60-c901-980bb696a520"
      },
      "source": [
        "b[2:]\n",
        "# leave it blank\n",
        "# python will make it default as last element"
      ],
      "execution_count": null,
      "outputs": [
        {
          "output_type": "execute_result",
          "data": {
            "text/plain": [
              "[4, 6, 8]"
            ]
          },
          "metadata": {},
          "execution_count": 19
        }
      ]
    },
    {
      "cell_type": "code",
      "metadata": {
        "id": "V8loHwYQdKeU",
        "colab": {
          "base_uri": "https://localhost:8080/"
        },
        "outputId": "cbaeca3b-a312-4b6c-a194-be7bf1413941"
      },
      "source": [
        "b[:-2]\n",
        "# print everything from beginning, and stop before b[-2]"
      ],
      "execution_count": null,
      "outputs": [
        {
          "output_type": "execute_result",
          "data": {
            "text/plain": [
              "[0, 2, 4]"
            ]
          },
          "metadata": {},
          "execution_count": 20
        }
      ]
    },
    {
      "cell_type": "code",
      "metadata": {
        "id": "s_yT2knpdbz6"
      },
      "source": [
        "# replace an item from a list\n",
        "b[4] = 99"
      ],
      "execution_count": null,
      "outputs": []
    },
    {
      "cell_type": "code",
      "metadata": {
        "id": "qpQo_v85d79l",
        "colab": {
          "base_uri": "https://localhost:8080/"
        },
        "outputId": "3e870a9f-3ba9-44de-de45-4483323a2b4c"
      },
      "source": [
        "b"
      ],
      "execution_count": null,
      "outputs": [
        {
          "output_type": "execute_result",
          "data": {
            "text/plain": [
              "[0, 2, 4, 6, 99]"
            ]
          },
          "metadata": {},
          "execution_count": 23
        }
      ]
    },
    {
      "cell_type": "code",
      "metadata": {
        "id": "oLSKyqD8d8s3"
      },
      "source": [
        "# how to add more data?\n",
        "b.append(100)"
      ],
      "execution_count": null,
      "outputs": []
    },
    {
      "cell_type": "code",
      "metadata": {
        "id": "oF_lRq2oeTi7",
        "colab": {
          "base_uri": "https://localhost:8080/"
        },
        "outputId": "d1db1d6c-95ef-47b9-dcfe-dabb44695c4f"
      },
      "source": [
        "b"
      ],
      "execution_count": null,
      "outputs": [
        {
          "output_type": "execute_result",
          "data": {
            "text/plain": [
              "[0, 2, 4, 6, 99, 100]"
            ]
          },
          "metadata": {},
          "execution_count": 25
        }
      ]
    },
    {
      "cell_type": "code",
      "metadata": {
        "id": "zJZsf2l6eUoW"
      },
      "source": [
        "b.remove(99)"
      ],
      "execution_count": null,
      "outputs": []
    },
    {
      "cell_type": "code",
      "metadata": {
        "id": "KBk1hwiHeirr",
        "colab": {
          "base_uri": "https://localhost:8080/"
        },
        "outputId": "04bae7e3-fa39-43cb-8977-7a42daed12c8"
      },
      "source": [
        "b"
      ],
      "execution_count": null,
      "outputs": [
        {
          "output_type": "execute_result",
          "data": {
            "text/plain": [
              "[0, 2, 4, 6, 100]"
            ]
          },
          "metadata": {},
          "execution_count": 27
        }
      ]
    },
    {
      "cell_type": "code",
      "metadata": {
        "colab": {
          "base_uri": "https://localhost:8080/"
        },
        "id": "BgI9kR6qgPow",
        "outputId": "2d36a103-8cb3-4229-e44c-116a515cc17f"
      },
      "source": [
        "# How to double each item?\n",
        "# First method\n",
        "my_list = [ 1 , 2, 3, 4 , 6]\n",
        "my_new_list = [ i*2 for i in my_list]\n",
        "my_new_list"
      ],
      "execution_count": null,
      "outputs": [
        {
          "output_type": "execute_result",
          "data": {
            "text/plain": [
              "[2, 4, 6, 8, 12]"
            ]
          },
          "metadata": {},
          "execution_count": 23
        }
      ]
    },
    {
      "cell_type": "code",
      "metadata": {
        "colab": {
          "base_uri": "https://localhost:8080/"
        },
        "id": "uwPTdJp0grU9",
        "outputId": "5cef763e-77fb-410f-fcaf-853bc94ad99a"
      },
      "source": [
        "# Second method\n",
        "import numpy as np\n",
        "my_list2 = np.array([1,2,3,4,6])\n",
        "my_list2 * 2"
      ],
      "execution_count": null,
      "outputs": [
        {
          "output_type": "execute_result",
          "data": {
            "text/plain": [
              "array([ 2,  4,  6,  8, 12])"
            ]
          },
          "metadata": {},
          "execution_count": 24
        }
      ]
    },
    {
      "cell_type": "code",
      "metadata": {
        "id": "LUH7jXVVhTqT"
      },
      "source": [],
      "execution_count": null,
      "outputs": []
    }
  ]
}