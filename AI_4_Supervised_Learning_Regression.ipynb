{
  "nbformat": 4,
  "nbformat_minor": 0,
  "metadata": {
    "colab": {
      "provenance": [],
      "include_colab_link": true
    },
    "kernelspec": {
      "name": "python3",
      "display_name": "Python 3"
    }
  },
  "cells": [
    {
      "cell_type": "markdown",
      "metadata": {
        "id": "view-in-github",
        "colab_type": "text"
      },
      "source": [
        "<a href=\"https://colab.research.google.com/github/mattbobea/AI_in_Business_Application/blob/main/AI_4_Supervised_Learning_Regression.ipynb\" target=\"_parent\"><img src=\"https://colab.research.google.com/assets/colab-badge.svg\" alt=\"Open In Colab\"/></a>"
      ]
    },
    {
      "cell_type": "markdown",
      "metadata": {
        "id": "NzpfpsuRzDIe"
      },
      "source": [
        "# **control flow: if / else**"
      ]
    },
    {
      "cell_type": "code",
      "metadata": {
        "colab": {
          "base_uri": "https://localhost:8080/"
        },
        "id": "eYFIq1OCzG1C",
        "outputId": "b1d5c17e-3d43-4197-ada2-849d1514a4b7"
      },
      "source": [
        "# don't forget the \":\" to end if statement.\n",
        "sound = 5 \n",
        "if sound > 0 : \n",
        "  print('Beaver build the dam!')\n",
        "# elif is short for else if\n",
        "# when i want to compare with 0, i need double equal sign to do the comparison\n",
        "elif sound == 0 :\n",
        "  print('No need to build!')\n"
      ],
      "execution_count": null,
      "outputs": [
        {
          "output_type": "stream",
          "name": "stdout",
          "text": [
            "Beaver build the dam!\n"
          ]
        }
      ]
    },
    {
      "cell_type": "markdown",
      "metadata": {
        "id": "yTpxdg2WzP-i"
      },
      "source": [
        "# **Fancy Package**"
      ]
    },
    {
      "cell_type": "code",
      "metadata": {
        "id": "EFoj_23JzTIs"
      },
      "source": [
        "# import specific package\n",
        "import numpy as np # short as np for future fast-typing "
      ],
      "execution_count": null,
      "outputs": []
    },
    {
      "cell_type": "code",
      "metadata": {
        "colab": {
          "base_uri": "https://localhost:8080/"
        },
        "id": "gXu0m--azYl0",
        "outputId": "696a2edb-503d-4186-e3fc-3959a486f621"
      },
      "source": [
        "# grades for [midterm, project, final]\n",
        "# percentage for [midterm, project, final]\n",
        "grades = np.array([ 80 , 85 , 90 ])\n",
        "percentage = np.array([ .3 , .3 , .4 ])\n",
        "part = grades * percentage # just multiply, not dot product \n",
        "part"
      ],
      "execution_count": null,
      "outputs": [
        {
          "output_type": "execute_result",
          "data": {
            "text/plain": [
              "array([24. , 25.5, 36. ])"
            ]
          },
          "metadata": {},
          "execution_count": 3
        }
      ]
    },
    {
      "cell_type": "code",
      "metadata": {
        "colab": {
          "base_uri": "https://localhost:8080/"
        },
        "id": "u1dG5hpozsRE",
        "outputId": "9fe1541f-71e9-4175-b15d-1585d21fcf45"
      },
      "source": [
        "# method 1\n",
        "semester = part.sum()\n",
        "semester"
      ],
      "execution_count": null,
      "outputs": [
        {
          "output_type": "execute_result",
          "data": {
            "text/plain": [
              "85.5"
            ]
          },
          "metadata": {},
          "execution_count": 4
        }
      ]
    },
    {
      "cell_type": "code",
      "metadata": {
        "colab": {
          "base_uri": "https://localhost:8080/"
        },
        "id": "0c49kSL-zvVc",
        "outputId": "e42bcb76-4bec-477c-ea96-36b45900848e"
      },
      "source": [
        "# method 2: dot product within numpy\n",
        "np.dot(grades,percentage)"
      ],
      "execution_count": null,
      "outputs": [
        {
          "output_type": "execute_result",
          "data": {
            "text/plain": [
              "85.5"
            ]
          },
          "metadata": {},
          "execution_count": 5
        }
      ]
    },
    {
      "cell_type": "markdown",
      "metadata": {
        "id": "w1GKc45YKU3U"
      },
      "source": [
        "# **Generate Array**\n",
        "\n",
        "* Generate list by range\n",
        "* Generate array by linspace or arange"
      ]
    },
    {
      "cell_type": "code",
      "metadata": {
        "id": "Xyt2amQ4MIOE"
      },
      "source": [
        "# import specific package\n",
        "# since we already import numpy, we won't need to import again"
      ],
      "execution_count": null,
      "outputs": []
    },
    {
      "cell_type": "code",
      "metadata": {
        "colab": {
          "base_uri": "https://localhost:8080/"
        },
        "id": "QT2KdgmYMCS9",
        "outputId": "0d309c59-e458-4591-d0a9-f96f237350ac"
      },
      "source": [
        "# Method 1: Generate array by linespace\n",
        "np.linspace(0,10,num=6)\n",
        "# third number will be how many number you want to see\n",
        "# np.linspace(0,10,6) # also work"
      ],
      "execution_count": null,
      "outputs": [
        {
          "output_type": "execute_result",
          "data": {
            "text/plain": [
              "array([ 0.,  2.,  4.,  6.,  8., 10.])"
            ]
          },
          "metadata": {},
          "execution_count": 7
        }
      ]
    },
    {
      "cell_type": "code",
      "metadata": {
        "id": "yL0yh6KVMMrM"
      },
      "source": [
        "# array is also a type of data structure\n",
        "# similar but faster than list\n",
        "mylist = [1 , 3 , 5, 6]\n",
        "myarr = np.array(mylist)"
      ],
      "execution_count": null,
      "outputs": []
    },
    {
      "cell_type": "code",
      "metadata": {
        "colab": {
          "base_uri": "https://localhost:8080/"
        },
        "id": "OuYk13I9MQD3",
        "outputId": "f046ed5e-bfde-4d3f-d507-ce19f3592f71"
      },
      "source": [
        "mylist"
      ],
      "execution_count": null,
      "outputs": [
        {
          "output_type": "execute_result",
          "data": {
            "text/plain": [
              "[1, 3, 5, 6]"
            ]
          },
          "metadata": {},
          "execution_count": 9
        }
      ]
    },
    {
      "cell_type": "code",
      "metadata": {
        "colab": {
          "base_uri": "https://localhost:8080/"
        },
        "id": "84fn_zKSMTqZ",
        "outputId": "44e080f4-d9e8-4bbc-fc1e-dc08491e81ad"
      },
      "source": [
        "myarr"
      ],
      "execution_count": null,
      "outputs": [
        {
          "output_type": "execute_result",
          "data": {
            "text/plain": [
              "array([1, 3, 5, 6])"
            ]
          },
          "metadata": {},
          "execution_count": 10
        }
      ]
    },
    {
      "cell_type": "code",
      "metadata": {
        "id": "CCuBnwejMYMD"
      },
      "source": [
        "#mylist+5"
      ],
      "execution_count": null,
      "outputs": []
    },
    {
      "cell_type": "code",
      "metadata": {
        "colab": {
          "base_uri": "https://localhost:8080/"
        },
        "id": "tVNLnp2GMbar",
        "outputId": "ef2f2eeb-587d-45dc-9412-0474550fedbe"
      },
      "source": [
        "myarr+5"
      ],
      "execution_count": null,
      "outputs": [
        {
          "output_type": "execute_result",
          "data": {
            "text/plain": [
              "array([ 6,  8, 10, 11])"
            ]
          },
          "metadata": {},
          "execution_count": 12
        }
      ]
    },
    {
      "cell_type": "code",
      "metadata": {
        "id": "RNflGkrgQiOY"
      },
      "source": [
        "# How to use np.array calculate class average?\n"
      ],
      "execution_count": null,
      "outputs": []
    },
    {
      "cell_type": "code",
      "metadata": {
        "id": "SXP2lGI0QyS7"
      },
      "source": [
        "# method 1\n"
      ],
      "execution_count": null,
      "outputs": []
    },
    {
      "cell_type": "code",
      "metadata": {
        "id": "OFbiQd9GQ1ck"
      },
      "source": [
        "# method 2: dot product within numpy\n"
      ],
      "execution_count": null,
      "outputs": []
    },
    {
      "cell_type": "code",
      "metadata": {
        "colab": {
          "base_uri": "https://localhost:8080/"
        },
        "id": "h7EDjQZ8RMZ4",
        "outputId": "75eb4b9e-b47e-4fd6-b00d-296cf32b1721"
      },
      "source": [
        "a = np.array([[1,2],[3,4]])\n",
        "a"
      ],
      "execution_count": null,
      "outputs": [
        {
          "output_type": "execute_result",
          "data": {
            "text/plain": [
              "array([[1, 2],\n",
              "       [3, 4]])"
            ]
          },
          "metadata": {},
          "execution_count": 16
        }
      ]
    },
    {
      "cell_type": "code",
      "metadata": {
        "colab": {
          "base_uri": "https://localhost:8080/"
        },
        "id": "aEZVSRsyRRm3",
        "outputId": "035e8f51-c971-4ba7-98bc-4c8eaae02553"
      },
      "source": [
        "a.shape\n",
        "# (row number , column number)"
      ],
      "execution_count": null,
      "outputs": [
        {
          "output_type": "execute_result",
          "data": {
            "text/plain": [
              "(2, 2)"
            ]
          },
          "metadata": {},
          "execution_count": 17
        }
      ]
    },
    {
      "cell_type": "code",
      "metadata": {
        "colab": {
          "base_uri": "https://localhost:8080/"
        },
        "id": "RZcHvIG_RPay",
        "outputId": "708f42f8-52fe-4a6c-b520-7c3b220227ce"
      },
      "source": [
        "a.ndim"
      ],
      "execution_count": null,
      "outputs": [
        {
          "output_type": "execute_result",
          "data": {
            "text/plain": [
              "2"
            ]
          },
          "metadata": {},
          "execution_count": 18
        }
      ]
    },
    {
      "cell_type": "code",
      "metadata": {
        "colab": {
          "base_uri": "https://localhost:8080/"
        },
        "id": "kfdtO6UWRV9-",
        "outputId": "3b1744a7-eb49-47b8-ee0d-9b102ffc3716"
      },
      "source": [
        "# reshape the original 2 rows 2 columns \n",
        "# into 1 row 4 columns\n",
        "a.reshape(1,4)"
      ],
      "execution_count": null,
      "outputs": [
        {
          "output_type": "execute_result",
          "data": {
            "text/plain": [
              "array([[1, 2, 3, 4]])"
            ]
          },
          "metadata": {},
          "execution_count": 19
        }
      ]
    },
    {
      "cell_type": "code",
      "metadata": {
        "colab": {
          "base_uri": "https://localhost:8080/"
        },
        "id": "i4aRDbVLXVbT",
        "outputId": "559fe643-9455-4303-c5a8-1518b568fef7"
      },
      "source": [
        "# What's \"a\" look like now?\n",
        "a"
      ],
      "execution_count": null,
      "outputs": [
        {
          "output_type": "execute_result",
          "data": {
            "text/plain": [
              "array([[1, 2],\n",
              "       [3, 4]])"
            ]
          },
          "metadata": {},
          "execution_count": 20
        }
      ]
    },
    {
      "cell_type": "code",
      "metadata": {
        "colab": {
          "base_uri": "https://localhost:8080/"
        },
        "id": "znALlMM1XxE5",
        "outputId": "a8f6c57e-388c-431c-b855-20f318307b32"
      },
      "source": [
        "# in order to forever change \"a\", you will need the assign part\n",
        "a = a.reshape(1,4) # assign new a = old a reshaping\n",
        "a"
      ],
      "execution_count": null,
      "outputs": [
        {
          "output_type": "execute_result",
          "data": {
            "text/plain": [
              "array([[1, 2, 3, 4]])"
            ]
          },
          "metadata": {},
          "execution_count": 21
        }
      ]
    },
    {
      "cell_type": "code",
      "metadata": {
        "colab": {
          "base_uri": "https://localhost:8080/"
        },
        "id": "eRa-HD_dRZDD",
        "outputId": "81480537-e35e-46f7-f56c-b9f8c27eb499"
      },
      "source": [
        "a.reshape(2,2)\n",
        "# forever change back\n",
        "# a= a.reshape(2,2)"
      ],
      "execution_count": null,
      "outputs": [
        {
          "output_type": "execute_result",
          "data": {
            "text/plain": [
              "array([[1, 2],\n",
              "       [3, 4]])"
            ]
          },
          "metadata": {},
          "execution_count": 22
        }
      ]
    },
    {
      "cell_type": "code",
      "metadata": {
        "colab": {
          "base_uri": "https://localhost:8080/"
        },
        "id": "LDVzqIQyRdlr",
        "outputId": "2e2bbc00-0cb5-4309-b814-c8807c27f31e"
      },
      "source": [
        "a.sum(axis=0) \n",
        "# add different rows together"
      ],
      "execution_count": null,
      "outputs": [
        {
          "output_type": "execute_result",
          "data": {
            "text/plain": [
              "array([1, 2, 3, 4])"
            ]
          },
          "metadata": {},
          "execution_count": 23
        }
      ]
    },
    {
      "cell_type": "code",
      "metadata": {
        "colab": {
          "base_uri": "https://localhost:8080/"
        },
        "id": "K3MwzmA1RgOw",
        "outputId": "c3cf0075-eb07-499e-d3ec-b76a0c3c9b17"
      },
      "source": [
        "a.sum(axis=1) \n",
        "# add different columns together"
      ],
      "execution_count": null,
      "outputs": [
        {
          "output_type": "execute_result",
          "data": {
            "text/plain": [
              "array([10])"
            ]
          },
          "metadata": {},
          "execution_count": 24
        }
      ]
    },
    {
      "cell_type": "code",
      "source": [
        "a.sum()"
      ],
      "metadata": {
        "colab": {
          "base_uri": "https://localhost:8080/"
        },
        "id": "ms7q6xQujB2u",
        "outputId": "a828d65b-37ce-4bde-b752-145ebd3834a4"
      },
      "execution_count": null,
      "outputs": [
        {
          "output_type": "execute_result",
          "data": {
            "text/plain": [
              "10"
            ]
          },
          "metadata": {},
          "execution_count": 25
        }
      ]
    },
    {
      "cell_type": "markdown",
      "metadata": {
        "id": "6Y8enfeju5pV"
      },
      "source": [
        "# **Regression Example: Forecast Stock Price**"
      ]
    },
    {
      "cell_type": "code",
      "metadata": {
        "id": "ugaQwU_WrNvK"
      },
      "source": [
        "# pandas: manipulate \"excel type of data\"\n",
        "import pandas as pd\n",
        "# grab stock price\n",
        "import pandas_datareader as pdr \n",
        "# plot and see the graph\n",
        "%matplotlib inline "
      ],
      "execution_count": null,
      "outputs": []
    },
    {
      "cell_type": "code",
      "metadata": {
        "id": "40VD58ka4aEY"
      },
      "source": [
        "# if pdr.get_data_yahoo cannot work, need to run this, and restart runtime\n",
        "#pip install pandas_datareader --upgrade\n",
        "\n",
        "#pip install pandas_datareader --upgrade"
      ],
      "execution_count": null,
      "outputs": []
    },
    {
      "cell_type": "code",
      "metadata": {
        "colab": {
          "base_uri": "https://localhost:8080/"
        },
        "id": "PAkzdp6uaoYN",
        "outputId": "5b495dee-74f8-4cfa-aebf-74898e7717bf"
      },
      "source": [
        "pip install pandas_datareader --upgrade"
      ],
      "execution_count": null,
      "outputs": [
        {
          "output_type": "stream",
          "name": "stdout",
          "text": [
            "Looking in indexes: https://pypi.org/simple, https://us-python.pkg.dev/colab-wheels/public/simple/\n",
            "Requirement already satisfied: pandas_datareader in /usr/local/lib/python3.7/dist-packages (0.10.0)\n",
            "Requirement already satisfied: lxml in /usr/local/lib/python3.7/dist-packages (from pandas_datareader) (4.9.1)\n",
            "Requirement already satisfied: requests>=2.19.0 in /usr/local/lib/python3.7/dist-packages (from pandas_datareader) (2.23.0)\n",
            "Requirement already satisfied: pandas>=0.23 in /usr/local/lib/python3.7/dist-packages (from pandas_datareader) (1.3.5)\n",
            "Requirement already satisfied: python-dateutil>=2.7.3 in /usr/local/lib/python3.7/dist-packages (from pandas>=0.23->pandas_datareader) (2.8.2)\n",
            "Requirement already satisfied: numpy>=1.17.3 in /usr/local/lib/python3.7/dist-packages (from pandas>=0.23->pandas_datareader) (1.21.6)\n",
            "Requirement already satisfied: pytz>=2017.3 in /usr/local/lib/python3.7/dist-packages (from pandas>=0.23->pandas_datareader) (2022.4)\n",
            "Requirement already satisfied: six>=1.5 in /usr/local/lib/python3.7/dist-packages (from python-dateutil>=2.7.3->pandas>=0.23->pandas_datareader) (1.15.0)\n",
            "Requirement already satisfied: idna<3,>=2.5 in /usr/local/lib/python3.7/dist-packages (from requests>=2.19.0->pandas_datareader) (2.10)\n",
            "Requirement already satisfied: urllib3!=1.25.0,!=1.25.1,<1.26,>=1.21.1 in /usr/local/lib/python3.7/dist-packages (from requests>=2.19.0->pandas_datareader) (1.24.3)\n",
            "Requirement already satisfied: certifi>=2017.4.17 in /usr/local/lib/python3.7/dist-packages (from requests>=2.19.0->pandas_datareader) (2022.9.24)\n",
            "Requirement already satisfied: chardet<4,>=3.0.2 in /usr/local/lib/python3.7/dist-packages (from requests>=2.19.0->pandas_datareader) (3.0.4)\n"
          ]
        }
      ]
    },
    {
      "cell_type": "code",
      "metadata": {
        "id": "MyBpLQo9v0z4",
        "colab": {
          "base_uri": "https://localhost:8080/",
          "height": 455
        },
        "outputId": "c6e450f5-4d96-464b-d0e7-4ab8121c0384"
      },
      "source": [
        "# to reuse the data\n",
        "# df short from dataframe\n",
        "df = pdr.get_data_yahoo('TSM')\n",
        "df"
      ],
      "execution_count": null,
      "outputs": [
        {
          "output_type": "execute_result",
          "data": {
            "text/plain": [
              "                 High        Low       Open      Close      Volume  Adj Close\n",
              "Date                                                                         \n",
              "2017-10-25  41.410000  40.700001  41.299999  41.160000   3360000.0  35.789009\n",
              "2017-10-26  41.340000  41.070000  41.180000  41.200001   3651500.0  35.823792\n",
              "2017-10-27  42.180000  41.419998  41.480000  42.150002   4822800.0  36.649822\n",
              "2017-10-30  42.660000  42.080002  42.360001  42.130001   5200800.0  36.632431\n",
              "2017-10-31  42.520000  42.099998  42.180000  42.330002   3704500.0  36.806339\n",
              "...               ...        ...        ...        ...         ...        ...\n",
              "2022-10-17  65.349998  64.040001  64.980003  64.889999  11280100.0  64.889999\n",
              "2022-10-18  66.110001  62.779999  65.900002  63.709999  16656100.0  63.709999\n",
              "2022-10-19  64.110001  62.169998  62.740002  63.660000  12385200.0  63.660000\n",
              "2022-10-20  65.279999  63.380001  63.750000  63.580002  11300900.0  63.580002\n",
              "2022-10-21  63.779999  62.020000  62.020000  63.750000  13695500.0  63.750000\n",
              "\n",
              "[1257 rows x 6 columns]"
            ],
            "text/html": [
              "\n",
              "  <div id=\"df-8dbac779-36cc-483b-ac13-e4bf54707d40\">\n",
              "    <div class=\"colab-df-container\">\n",
              "      <div>\n",
              "<style scoped>\n",
              "    .dataframe tbody tr th:only-of-type {\n",
              "        vertical-align: middle;\n",
              "    }\n",
              "\n",
              "    .dataframe tbody tr th {\n",
              "        vertical-align: top;\n",
              "    }\n",
              "\n",
              "    .dataframe thead th {\n",
              "        text-align: right;\n",
              "    }\n",
              "</style>\n",
              "<table border=\"1\" class=\"dataframe\">\n",
              "  <thead>\n",
              "    <tr style=\"text-align: right;\">\n",
              "      <th></th>\n",
              "      <th>High</th>\n",
              "      <th>Low</th>\n",
              "      <th>Open</th>\n",
              "      <th>Close</th>\n",
              "      <th>Volume</th>\n",
              "      <th>Adj Close</th>\n",
              "    </tr>\n",
              "    <tr>\n",
              "      <th>Date</th>\n",
              "      <th></th>\n",
              "      <th></th>\n",
              "      <th></th>\n",
              "      <th></th>\n",
              "      <th></th>\n",
              "      <th></th>\n",
              "    </tr>\n",
              "  </thead>\n",
              "  <tbody>\n",
              "    <tr>\n",
              "      <th>2017-10-25</th>\n",
              "      <td>41.410000</td>\n",
              "      <td>40.700001</td>\n",
              "      <td>41.299999</td>\n",
              "      <td>41.160000</td>\n",
              "      <td>3360000.0</td>\n",
              "      <td>35.789009</td>\n",
              "    </tr>\n",
              "    <tr>\n",
              "      <th>2017-10-26</th>\n",
              "      <td>41.340000</td>\n",
              "      <td>41.070000</td>\n",
              "      <td>41.180000</td>\n",
              "      <td>41.200001</td>\n",
              "      <td>3651500.0</td>\n",
              "      <td>35.823792</td>\n",
              "    </tr>\n",
              "    <tr>\n",
              "      <th>2017-10-27</th>\n",
              "      <td>42.180000</td>\n",
              "      <td>41.419998</td>\n",
              "      <td>41.480000</td>\n",
              "      <td>42.150002</td>\n",
              "      <td>4822800.0</td>\n",
              "      <td>36.649822</td>\n",
              "    </tr>\n",
              "    <tr>\n",
              "      <th>2017-10-30</th>\n",
              "      <td>42.660000</td>\n",
              "      <td>42.080002</td>\n",
              "      <td>42.360001</td>\n",
              "      <td>42.130001</td>\n",
              "      <td>5200800.0</td>\n",
              "      <td>36.632431</td>\n",
              "    </tr>\n",
              "    <tr>\n",
              "      <th>2017-10-31</th>\n",
              "      <td>42.520000</td>\n",
              "      <td>42.099998</td>\n",
              "      <td>42.180000</td>\n",
              "      <td>42.330002</td>\n",
              "      <td>3704500.0</td>\n",
              "      <td>36.806339</td>\n",
              "    </tr>\n",
              "    <tr>\n",
              "      <th>...</th>\n",
              "      <td>...</td>\n",
              "      <td>...</td>\n",
              "      <td>...</td>\n",
              "      <td>...</td>\n",
              "      <td>...</td>\n",
              "      <td>...</td>\n",
              "    </tr>\n",
              "    <tr>\n",
              "      <th>2022-10-17</th>\n",
              "      <td>65.349998</td>\n",
              "      <td>64.040001</td>\n",
              "      <td>64.980003</td>\n",
              "      <td>64.889999</td>\n",
              "      <td>11280100.0</td>\n",
              "      <td>64.889999</td>\n",
              "    </tr>\n",
              "    <tr>\n",
              "      <th>2022-10-18</th>\n",
              "      <td>66.110001</td>\n",
              "      <td>62.779999</td>\n",
              "      <td>65.900002</td>\n",
              "      <td>63.709999</td>\n",
              "      <td>16656100.0</td>\n",
              "      <td>63.709999</td>\n",
              "    </tr>\n",
              "    <tr>\n",
              "      <th>2022-10-19</th>\n",
              "      <td>64.110001</td>\n",
              "      <td>62.169998</td>\n",
              "      <td>62.740002</td>\n",
              "      <td>63.660000</td>\n",
              "      <td>12385200.0</td>\n",
              "      <td>63.660000</td>\n",
              "    </tr>\n",
              "    <tr>\n",
              "      <th>2022-10-20</th>\n",
              "      <td>65.279999</td>\n",
              "      <td>63.380001</td>\n",
              "      <td>63.750000</td>\n",
              "      <td>63.580002</td>\n",
              "      <td>11300900.0</td>\n",
              "      <td>63.580002</td>\n",
              "    </tr>\n",
              "    <tr>\n",
              "      <th>2022-10-21</th>\n",
              "      <td>63.779999</td>\n",
              "      <td>62.020000</td>\n",
              "      <td>62.020000</td>\n",
              "      <td>63.750000</td>\n",
              "      <td>13695500.0</td>\n",
              "      <td>63.750000</td>\n",
              "    </tr>\n",
              "  </tbody>\n",
              "</table>\n",
              "<p>1257 rows × 6 columns</p>\n",
              "</div>\n",
              "      <button class=\"colab-df-convert\" onclick=\"convertToInteractive('df-8dbac779-36cc-483b-ac13-e4bf54707d40')\"\n",
              "              title=\"Convert this dataframe to an interactive table.\"\n",
              "              style=\"display:none;\">\n",
              "        \n",
              "  <svg xmlns=\"http://www.w3.org/2000/svg\" height=\"24px\"viewBox=\"0 0 24 24\"\n",
              "       width=\"24px\">\n",
              "    <path d=\"M0 0h24v24H0V0z\" fill=\"none\"/>\n",
              "    <path d=\"M18.56 5.44l.94 2.06.94-2.06 2.06-.94-2.06-.94-.94-2.06-.94 2.06-2.06.94zm-11 1L8.5 8.5l.94-2.06 2.06-.94-2.06-.94L8.5 2.5l-.94 2.06-2.06.94zm10 10l.94 2.06.94-2.06 2.06-.94-2.06-.94-.94-2.06-.94 2.06-2.06.94z\"/><path d=\"M17.41 7.96l-1.37-1.37c-.4-.4-.92-.59-1.43-.59-.52 0-1.04.2-1.43.59L10.3 9.45l-7.72 7.72c-.78.78-.78 2.05 0 2.83L4 21.41c.39.39.9.59 1.41.59.51 0 1.02-.2 1.41-.59l7.78-7.78 2.81-2.81c.8-.78.8-2.07 0-2.86zM5.41 20L4 18.59l7.72-7.72 1.47 1.35L5.41 20z\"/>\n",
              "  </svg>\n",
              "      </button>\n",
              "      \n",
              "  <style>\n",
              "    .colab-df-container {\n",
              "      display:flex;\n",
              "      flex-wrap:wrap;\n",
              "      gap: 12px;\n",
              "    }\n",
              "\n",
              "    .colab-df-convert {\n",
              "      background-color: #E8F0FE;\n",
              "      border: none;\n",
              "      border-radius: 50%;\n",
              "      cursor: pointer;\n",
              "      display: none;\n",
              "      fill: #1967D2;\n",
              "      height: 32px;\n",
              "      padding: 0 0 0 0;\n",
              "      width: 32px;\n",
              "    }\n",
              "\n",
              "    .colab-df-convert:hover {\n",
              "      background-color: #E2EBFA;\n",
              "      box-shadow: 0px 1px 2px rgba(60, 64, 67, 0.3), 0px 1px 3px 1px rgba(60, 64, 67, 0.15);\n",
              "      fill: #174EA6;\n",
              "    }\n",
              "\n",
              "    [theme=dark] .colab-df-convert {\n",
              "      background-color: #3B4455;\n",
              "      fill: #D2E3FC;\n",
              "    }\n",
              "\n",
              "    [theme=dark] .colab-df-convert:hover {\n",
              "      background-color: #434B5C;\n",
              "      box-shadow: 0px 1px 3px 1px rgba(0, 0, 0, 0.15);\n",
              "      filter: drop-shadow(0px 1px 2px rgba(0, 0, 0, 0.3));\n",
              "      fill: #FFFFFF;\n",
              "    }\n",
              "  </style>\n",
              "\n",
              "      <script>\n",
              "        const buttonEl =\n",
              "          document.querySelector('#df-8dbac779-36cc-483b-ac13-e4bf54707d40 button.colab-df-convert');\n",
              "        buttonEl.style.display =\n",
              "          google.colab.kernel.accessAllowed ? 'block' : 'none';\n",
              "\n",
              "        async function convertToInteractive(key) {\n",
              "          const element = document.querySelector('#df-8dbac779-36cc-483b-ac13-e4bf54707d40');\n",
              "          const dataTable =\n",
              "            await google.colab.kernel.invokeFunction('convertToInteractive',\n",
              "                                                     [key], {});\n",
              "          if (!dataTable) return;\n",
              "\n",
              "          const docLinkHtml = 'Like what you see? Visit the ' +\n",
              "            '<a target=\"_blank\" href=https://colab.research.google.com/notebooks/data_table.ipynb>data table notebook</a>'\n",
              "            + ' to learn more about interactive tables.';\n",
              "          element.innerHTML = '';\n",
              "          dataTable['output_type'] = 'display_data';\n",
              "          await google.colab.output.renderOutput(dataTable, element);\n",
              "          const docLink = document.createElement('div');\n",
              "          docLink.innerHTML = docLinkHtml;\n",
              "          element.appendChild(docLink);\n",
              "        }\n",
              "      </script>\n",
              "    </div>\n",
              "  </div>\n",
              "  "
            ]
          },
          "metadata": {},
          "execution_count": 29
        }
      ]
    },
    {
      "cell_type": "code",
      "metadata": {
        "id": "BKH53gPQwud0"
      },
      "source": [
        "# Only want part of the data\n",
        "# How to slice the data?\n",
        "df[-300:]\n",
        "# df[-300:-1]\n",
        "# if you want to forever change it\n",
        "df = df[-300:]"
      ],
      "execution_count": null,
      "outputs": []
    },
    {
      "cell_type": "code",
      "metadata": {
        "id": "uwcgouS6ww2W",
        "colab": {
          "base_uri": "https://localhost:8080/",
          "height": 499
        },
        "outputId": "c4f1ee64-3738-451b-d1f1-1f09e4aa8d4e"
      },
      "source": [
        "# get part of the data by slicing\n",
        "df"
      ],
      "execution_count": null,
      "outputs": [
        {
          "output_type": "execute_result",
          "data": {
            "text/plain": [
              "                  High         Low        Open       Close      Volume  \\\n",
              "Date                                                                     \n",
              "2021-08-16  115.480003  114.099998  115.099998  114.629997   5435900.0   \n",
              "2021-08-17  113.849998  110.750000  113.730003  111.110001  13398800.0   \n",
              "2021-08-18  113.000000  110.379997  111.739998  110.449997   9167300.0   \n",
              "2021-08-19  110.970001  107.680000  109.000000  110.519997  12146900.0   \n",
              "2021-08-20  109.709999  107.730003  109.139999  108.120003  13042000.0   \n",
              "...                ...         ...         ...         ...         ...   \n",
              "2022-10-17   65.349998   64.040001   64.980003   64.889999  11280100.0   \n",
              "2022-10-18   66.110001   62.779999   65.900002   63.709999  16656100.0   \n",
              "2022-10-19   64.110001   62.169998   62.740002   63.660000  12385200.0   \n",
              "2022-10-20   65.279999   63.380001   63.750000   63.580002  11300900.0   \n",
              "2022-10-21   63.779999   62.020000   62.020000   63.750000  13695500.0   \n",
              "\n",
              "             Adj Close  \n",
              "Date                    \n",
              "2021-08-16  111.919319  \n",
              "2021-08-17  108.482567  \n",
              "2021-08-18  107.838165  \n",
              "2021-08-19  107.906509  \n",
              "2021-08-20  105.563271  \n",
              "...                ...  \n",
              "2022-10-17   64.889999  \n",
              "2022-10-18   63.709999  \n",
              "2022-10-19   63.660000  \n",
              "2022-10-20   63.580002  \n",
              "2022-10-21   63.750000  \n",
              "\n",
              "[300 rows x 6 columns]"
            ],
            "text/html": [
              "\n",
              "  <div id=\"df-515d584f-16cb-4030-a6f6-34fb90b58ff3\">\n",
              "    <div class=\"colab-df-container\">\n",
              "      <div>\n",
              "<style scoped>\n",
              "    .dataframe tbody tr th:only-of-type {\n",
              "        vertical-align: middle;\n",
              "    }\n",
              "\n",
              "    .dataframe tbody tr th {\n",
              "        vertical-align: top;\n",
              "    }\n",
              "\n",
              "    .dataframe thead th {\n",
              "        text-align: right;\n",
              "    }\n",
              "</style>\n",
              "<table border=\"1\" class=\"dataframe\">\n",
              "  <thead>\n",
              "    <tr style=\"text-align: right;\">\n",
              "      <th></th>\n",
              "      <th>High</th>\n",
              "      <th>Low</th>\n",
              "      <th>Open</th>\n",
              "      <th>Close</th>\n",
              "      <th>Volume</th>\n",
              "      <th>Adj Close</th>\n",
              "    </tr>\n",
              "    <tr>\n",
              "      <th>Date</th>\n",
              "      <th></th>\n",
              "      <th></th>\n",
              "      <th></th>\n",
              "      <th></th>\n",
              "      <th></th>\n",
              "      <th></th>\n",
              "    </tr>\n",
              "  </thead>\n",
              "  <tbody>\n",
              "    <tr>\n",
              "      <th>2021-08-16</th>\n",
              "      <td>115.480003</td>\n",
              "      <td>114.099998</td>\n",
              "      <td>115.099998</td>\n",
              "      <td>114.629997</td>\n",
              "      <td>5435900.0</td>\n",
              "      <td>111.919319</td>\n",
              "    </tr>\n",
              "    <tr>\n",
              "      <th>2021-08-17</th>\n",
              "      <td>113.849998</td>\n",
              "      <td>110.750000</td>\n",
              "      <td>113.730003</td>\n",
              "      <td>111.110001</td>\n",
              "      <td>13398800.0</td>\n",
              "      <td>108.482567</td>\n",
              "    </tr>\n",
              "    <tr>\n",
              "      <th>2021-08-18</th>\n",
              "      <td>113.000000</td>\n",
              "      <td>110.379997</td>\n",
              "      <td>111.739998</td>\n",
              "      <td>110.449997</td>\n",
              "      <td>9167300.0</td>\n",
              "      <td>107.838165</td>\n",
              "    </tr>\n",
              "    <tr>\n",
              "      <th>2021-08-19</th>\n",
              "      <td>110.970001</td>\n",
              "      <td>107.680000</td>\n",
              "      <td>109.000000</td>\n",
              "      <td>110.519997</td>\n",
              "      <td>12146900.0</td>\n",
              "      <td>107.906509</td>\n",
              "    </tr>\n",
              "    <tr>\n",
              "      <th>2021-08-20</th>\n",
              "      <td>109.709999</td>\n",
              "      <td>107.730003</td>\n",
              "      <td>109.139999</td>\n",
              "      <td>108.120003</td>\n",
              "      <td>13042000.0</td>\n",
              "      <td>105.563271</td>\n",
              "    </tr>\n",
              "    <tr>\n",
              "      <th>...</th>\n",
              "      <td>...</td>\n",
              "      <td>...</td>\n",
              "      <td>...</td>\n",
              "      <td>...</td>\n",
              "      <td>...</td>\n",
              "      <td>...</td>\n",
              "    </tr>\n",
              "    <tr>\n",
              "      <th>2022-10-17</th>\n",
              "      <td>65.349998</td>\n",
              "      <td>64.040001</td>\n",
              "      <td>64.980003</td>\n",
              "      <td>64.889999</td>\n",
              "      <td>11280100.0</td>\n",
              "      <td>64.889999</td>\n",
              "    </tr>\n",
              "    <tr>\n",
              "      <th>2022-10-18</th>\n",
              "      <td>66.110001</td>\n",
              "      <td>62.779999</td>\n",
              "      <td>65.900002</td>\n",
              "      <td>63.709999</td>\n",
              "      <td>16656100.0</td>\n",
              "      <td>63.709999</td>\n",
              "    </tr>\n",
              "    <tr>\n",
              "      <th>2022-10-19</th>\n",
              "      <td>64.110001</td>\n",
              "      <td>62.169998</td>\n",
              "      <td>62.740002</td>\n",
              "      <td>63.660000</td>\n",
              "      <td>12385200.0</td>\n",
              "      <td>63.660000</td>\n",
              "    </tr>\n",
              "    <tr>\n",
              "      <th>2022-10-20</th>\n",
              "      <td>65.279999</td>\n",
              "      <td>63.380001</td>\n",
              "      <td>63.750000</td>\n",
              "      <td>63.580002</td>\n",
              "      <td>11300900.0</td>\n",
              "      <td>63.580002</td>\n",
              "    </tr>\n",
              "    <tr>\n",
              "      <th>2022-10-21</th>\n",
              "      <td>63.779999</td>\n",
              "      <td>62.020000</td>\n",
              "      <td>62.020000</td>\n",
              "      <td>63.750000</td>\n",
              "      <td>13695500.0</td>\n",
              "      <td>63.750000</td>\n",
              "    </tr>\n",
              "  </tbody>\n",
              "</table>\n",
              "<p>300 rows × 6 columns</p>\n",
              "</div>\n",
              "      <button class=\"colab-df-convert\" onclick=\"convertToInteractive('df-515d584f-16cb-4030-a6f6-34fb90b58ff3')\"\n",
              "              title=\"Convert this dataframe to an interactive table.\"\n",
              "              style=\"display:none;\">\n",
              "        \n",
              "  <svg xmlns=\"http://www.w3.org/2000/svg\" height=\"24px\"viewBox=\"0 0 24 24\"\n",
              "       width=\"24px\">\n",
              "    <path d=\"M0 0h24v24H0V0z\" fill=\"none\"/>\n",
              "    <path d=\"M18.56 5.44l.94 2.06.94-2.06 2.06-.94-2.06-.94-.94-2.06-.94 2.06-2.06.94zm-11 1L8.5 8.5l.94-2.06 2.06-.94-2.06-.94L8.5 2.5l-.94 2.06-2.06.94zm10 10l.94 2.06.94-2.06 2.06-.94-2.06-.94-.94-2.06-.94 2.06-2.06.94z\"/><path d=\"M17.41 7.96l-1.37-1.37c-.4-.4-.92-.59-1.43-.59-.52 0-1.04.2-1.43.59L10.3 9.45l-7.72 7.72c-.78.78-.78 2.05 0 2.83L4 21.41c.39.39.9.59 1.41.59.51 0 1.02-.2 1.41-.59l7.78-7.78 2.81-2.81c.8-.78.8-2.07 0-2.86zM5.41 20L4 18.59l7.72-7.72 1.47 1.35L5.41 20z\"/>\n",
              "  </svg>\n",
              "      </button>\n",
              "      \n",
              "  <style>\n",
              "    .colab-df-container {\n",
              "      display:flex;\n",
              "      flex-wrap:wrap;\n",
              "      gap: 12px;\n",
              "    }\n",
              "\n",
              "    .colab-df-convert {\n",
              "      background-color: #E8F0FE;\n",
              "      border: none;\n",
              "      border-radius: 50%;\n",
              "      cursor: pointer;\n",
              "      display: none;\n",
              "      fill: #1967D2;\n",
              "      height: 32px;\n",
              "      padding: 0 0 0 0;\n",
              "      width: 32px;\n",
              "    }\n",
              "\n",
              "    .colab-df-convert:hover {\n",
              "      background-color: #E2EBFA;\n",
              "      box-shadow: 0px 1px 2px rgba(60, 64, 67, 0.3), 0px 1px 3px 1px rgba(60, 64, 67, 0.15);\n",
              "      fill: #174EA6;\n",
              "    }\n",
              "\n",
              "    [theme=dark] .colab-df-convert {\n",
              "      background-color: #3B4455;\n",
              "      fill: #D2E3FC;\n",
              "    }\n",
              "\n",
              "    [theme=dark] .colab-df-convert:hover {\n",
              "      background-color: #434B5C;\n",
              "      box-shadow: 0px 1px 3px 1px rgba(0, 0, 0, 0.15);\n",
              "      filter: drop-shadow(0px 1px 2px rgba(0, 0, 0, 0.3));\n",
              "      fill: #FFFFFF;\n",
              "    }\n",
              "  </style>\n",
              "\n",
              "      <script>\n",
              "        const buttonEl =\n",
              "          document.querySelector('#df-515d584f-16cb-4030-a6f6-34fb90b58ff3 button.colab-df-convert');\n",
              "        buttonEl.style.display =\n",
              "          google.colab.kernel.accessAllowed ? 'block' : 'none';\n",
              "\n",
              "        async function convertToInteractive(key) {\n",
              "          const element = document.querySelector('#df-515d584f-16cb-4030-a6f6-34fb90b58ff3');\n",
              "          const dataTable =\n",
              "            await google.colab.kernel.invokeFunction('convertToInteractive',\n",
              "                                                     [key], {});\n",
              "          if (!dataTable) return;\n",
              "\n",
              "          const docLinkHtml = 'Like what you see? Visit the ' +\n",
              "            '<a target=\"_blank\" href=https://colab.research.google.com/notebooks/data_table.ipynb>data table notebook</a>'\n",
              "            + ' to learn more about interactive tables.';\n",
              "          element.innerHTML = '';\n",
              "          dataTable['output_type'] = 'display_data';\n",
              "          await google.colab.output.renderOutput(dataTable, element);\n",
              "          const docLink = document.createElement('div');\n",
              "          docLink.innerHTML = docLinkHtml;\n",
              "          element.appendChild(docLink);\n",
              "        }\n",
              "      </script>\n",
              "    </div>\n",
              "  </div>\n",
              "  "
            ]
          },
          "metadata": {},
          "execution_count": 31
        }
      ]
    },
    {
      "cell_type": "code",
      "metadata": {
        "id": "kMUxpA7ix2rp"
      },
      "source": [
        "df1 = pdr.get_data_yahoo('TSM',start='2022-01-01' , end='2022-10-17')"
      ],
      "execution_count": null,
      "outputs": []
    },
    {
      "cell_type": "code",
      "metadata": {
        "id": "oK0blhMWyhUF",
        "colab": {
          "base_uri": "https://localhost:8080/",
          "height": 499
        },
        "outputId": "7b351003-7329-4181-e4bf-ade889d56c65"
      },
      "source": [
        "df1"
      ],
      "execution_count": null,
      "outputs": [
        {
          "output_type": "execute_result",
          "data": {
            "text/plain": [
              "                  High         Low        Open       Close      Volume  \\\n",
              "Date                                                                     \n",
              "2022-01-03  129.589996  124.000000  124.129997  128.800003  18592000.0   \n",
              "2022-01-04  135.500000  130.300003  130.869995  133.399994  25554900.0   \n",
              "2022-01-05  130.880005  126.879997  130.710007  127.059998  17891200.0   \n",
              "2022-01-06  129.000000  124.809998  127.000000  128.470001  16249000.0   \n",
              "2022-01-07  127.139999  123.309998  126.550003  123.500000  21248100.0   \n",
              "...                ...         ...         ...         ...         ...   \n",
              "2022-10-11   64.910004   62.619999   64.199997   63.450001  28699300.0   \n",
              "2022-10-12   64.230003   63.369999   63.599998   64.110001  16468700.0   \n",
              "2022-10-13   70.199997   62.320000   63.060001   66.620003  36639300.0   \n",
              "2022-10-14   67.449997   63.779999   67.260002   63.919998  19440900.0   \n",
              "2022-10-17   65.349998   64.040001   64.980003   64.889999  11280100.0   \n",
              "\n",
              "             Adj Close  \n",
              "Date                    \n",
              "2022-01-03  126.793091  \n",
              "2022-01-04  131.321396  \n",
              "2022-01-05  125.080193  \n",
              "2022-01-06  126.468224  \n",
              "2022-01-07  121.575668  \n",
              "...                ...  \n",
              "2022-10-11   63.450001  \n",
              "2022-10-12   64.110001  \n",
              "2022-10-13   66.620003  \n",
              "2022-10-14   63.919998  \n",
              "2022-10-17   64.889999  \n",
              "\n",
              "[199 rows x 6 columns]"
            ],
            "text/html": [
              "\n",
              "  <div id=\"df-b39aae00-ed73-4dc7-ad52-440967ee2e4b\">\n",
              "    <div class=\"colab-df-container\">\n",
              "      <div>\n",
              "<style scoped>\n",
              "    .dataframe tbody tr th:only-of-type {\n",
              "        vertical-align: middle;\n",
              "    }\n",
              "\n",
              "    .dataframe tbody tr th {\n",
              "        vertical-align: top;\n",
              "    }\n",
              "\n",
              "    .dataframe thead th {\n",
              "        text-align: right;\n",
              "    }\n",
              "</style>\n",
              "<table border=\"1\" class=\"dataframe\">\n",
              "  <thead>\n",
              "    <tr style=\"text-align: right;\">\n",
              "      <th></th>\n",
              "      <th>High</th>\n",
              "      <th>Low</th>\n",
              "      <th>Open</th>\n",
              "      <th>Close</th>\n",
              "      <th>Volume</th>\n",
              "      <th>Adj Close</th>\n",
              "    </tr>\n",
              "    <tr>\n",
              "      <th>Date</th>\n",
              "      <th></th>\n",
              "      <th></th>\n",
              "      <th></th>\n",
              "      <th></th>\n",
              "      <th></th>\n",
              "      <th></th>\n",
              "    </tr>\n",
              "  </thead>\n",
              "  <tbody>\n",
              "    <tr>\n",
              "      <th>2022-01-03</th>\n",
              "      <td>129.589996</td>\n",
              "      <td>124.000000</td>\n",
              "      <td>124.129997</td>\n",
              "      <td>128.800003</td>\n",
              "      <td>18592000.0</td>\n",
              "      <td>126.793091</td>\n",
              "    </tr>\n",
              "    <tr>\n",
              "      <th>2022-01-04</th>\n",
              "      <td>135.500000</td>\n",
              "      <td>130.300003</td>\n",
              "      <td>130.869995</td>\n",
              "      <td>133.399994</td>\n",
              "      <td>25554900.0</td>\n",
              "      <td>131.321396</td>\n",
              "    </tr>\n",
              "    <tr>\n",
              "      <th>2022-01-05</th>\n",
              "      <td>130.880005</td>\n",
              "      <td>126.879997</td>\n",
              "      <td>130.710007</td>\n",
              "      <td>127.059998</td>\n",
              "      <td>17891200.0</td>\n",
              "      <td>125.080193</td>\n",
              "    </tr>\n",
              "    <tr>\n",
              "      <th>2022-01-06</th>\n",
              "      <td>129.000000</td>\n",
              "      <td>124.809998</td>\n",
              "      <td>127.000000</td>\n",
              "      <td>128.470001</td>\n",
              "      <td>16249000.0</td>\n",
              "      <td>126.468224</td>\n",
              "    </tr>\n",
              "    <tr>\n",
              "      <th>2022-01-07</th>\n",
              "      <td>127.139999</td>\n",
              "      <td>123.309998</td>\n",
              "      <td>126.550003</td>\n",
              "      <td>123.500000</td>\n",
              "      <td>21248100.0</td>\n",
              "      <td>121.575668</td>\n",
              "    </tr>\n",
              "    <tr>\n",
              "      <th>...</th>\n",
              "      <td>...</td>\n",
              "      <td>...</td>\n",
              "      <td>...</td>\n",
              "      <td>...</td>\n",
              "      <td>...</td>\n",
              "      <td>...</td>\n",
              "    </tr>\n",
              "    <tr>\n",
              "      <th>2022-10-11</th>\n",
              "      <td>64.910004</td>\n",
              "      <td>62.619999</td>\n",
              "      <td>64.199997</td>\n",
              "      <td>63.450001</td>\n",
              "      <td>28699300.0</td>\n",
              "      <td>63.450001</td>\n",
              "    </tr>\n",
              "    <tr>\n",
              "      <th>2022-10-12</th>\n",
              "      <td>64.230003</td>\n",
              "      <td>63.369999</td>\n",
              "      <td>63.599998</td>\n",
              "      <td>64.110001</td>\n",
              "      <td>16468700.0</td>\n",
              "      <td>64.110001</td>\n",
              "    </tr>\n",
              "    <tr>\n",
              "      <th>2022-10-13</th>\n",
              "      <td>70.199997</td>\n",
              "      <td>62.320000</td>\n",
              "      <td>63.060001</td>\n",
              "      <td>66.620003</td>\n",
              "      <td>36639300.0</td>\n",
              "      <td>66.620003</td>\n",
              "    </tr>\n",
              "    <tr>\n",
              "      <th>2022-10-14</th>\n",
              "      <td>67.449997</td>\n",
              "      <td>63.779999</td>\n",
              "      <td>67.260002</td>\n",
              "      <td>63.919998</td>\n",
              "      <td>19440900.0</td>\n",
              "      <td>63.919998</td>\n",
              "    </tr>\n",
              "    <tr>\n",
              "      <th>2022-10-17</th>\n",
              "      <td>65.349998</td>\n",
              "      <td>64.040001</td>\n",
              "      <td>64.980003</td>\n",
              "      <td>64.889999</td>\n",
              "      <td>11280100.0</td>\n",
              "      <td>64.889999</td>\n",
              "    </tr>\n",
              "  </tbody>\n",
              "</table>\n",
              "<p>199 rows × 6 columns</p>\n",
              "</div>\n",
              "      <button class=\"colab-df-convert\" onclick=\"convertToInteractive('df-b39aae00-ed73-4dc7-ad52-440967ee2e4b')\"\n",
              "              title=\"Convert this dataframe to an interactive table.\"\n",
              "              style=\"display:none;\">\n",
              "        \n",
              "  <svg xmlns=\"http://www.w3.org/2000/svg\" height=\"24px\"viewBox=\"0 0 24 24\"\n",
              "       width=\"24px\">\n",
              "    <path d=\"M0 0h24v24H0V0z\" fill=\"none\"/>\n",
              "    <path d=\"M18.56 5.44l.94 2.06.94-2.06 2.06-.94-2.06-.94-.94-2.06-.94 2.06-2.06.94zm-11 1L8.5 8.5l.94-2.06 2.06-.94-2.06-.94L8.5 2.5l-.94 2.06-2.06.94zm10 10l.94 2.06.94-2.06 2.06-.94-2.06-.94-.94-2.06-.94 2.06-2.06.94z\"/><path d=\"M17.41 7.96l-1.37-1.37c-.4-.4-.92-.59-1.43-.59-.52 0-1.04.2-1.43.59L10.3 9.45l-7.72 7.72c-.78.78-.78 2.05 0 2.83L4 21.41c.39.39.9.59 1.41.59.51 0 1.02-.2 1.41-.59l7.78-7.78 2.81-2.81c.8-.78.8-2.07 0-2.86zM5.41 20L4 18.59l7.72-7.72 1.47 1.35L5.41 20z\"/>\n",
              "  </svg>\n",
              "      </button>\n",
              "      \n",
              "  <style>\n",
              "    .colab-df-container {\n",
              "      display:flex;\n",
              "      flex-wrap:wrap;\n",
              "      gap: 12px;\n",
              "    }\n",
              "\n",
              "    .colab-df-convert {\n",
              "      background-color: #E8F0FE;\n",
              "      border: none;\n",
              "      border-radius: 50%;\n",
              "      cursor: pointer;\n",
              "      display: none;\n",
              "      fill: #1967D2;\n",
              "      height: 32px;\n",
              "      padding: 0 0 0 0;\n",
              "      width: 32px;\n",
              "    }\n",
              "\n",
              "    .colab-df-convert:hover {\n",
              "      background-color: #E2EBFA;\n",
              "      box-shadow: 0px 1px 2px rgba(60, 64, 67, 0.3), 0px 1px 3px 1px rgba(60, 64, 67, 0.15);\n",
              "      fill: #174EA6;\n",
              "    }\n",
              "\n",
              "    [theme=dark] .colab-df-convert {\n",
              "      background-color: #3B4455;\n",
              "      fill: #D2E3FC;\n",
              "    }\n",
              "\n",
              "    [theme=dark] .colab-df-convert:hover {\n",
              "      background-color: #434B5C;\n",
              "      box-shadow: 0px 1px 3px 1px rgba(0, 0, 0, 0.15);\n",
              "      filter: drop-shadow(0px 1px 2px rgba(0, 0, 0, 0.3));\n",
              "      fill: #FFFFFF;\n",
              "    }\n",
              "  </style>\n",
              "\n",
              "      <script>\n",
              "        const buttonEl =\n",
              "          document.querySelector('#df-b39aae00-ed73-4dc7-ad52-440967ee2e4b button.colab-df-convert');\n",
              "        buttonEl.style.display =\n",
              "          google.colab.kernel.accessAllowed ? 'block' : 'none';\n",
              "\n",
              "        async function convertToInteractive(key) {\n",
              "          const element = document.querySelector('#df-b39aae00-ed73-4dc7-ad52-440967ee2e4b');\n",
              "          const dataTable =\n",
              "            await google.colab.kernel.invokeFunction('convertToInteractive',\n",
              "                                                     [key], {});\n",
              "          if (!dataTable) return;\n",
              "\n",
              "          const docLinkHtml = 'Like what you see? Visit the ' +\n",
              "            '<a target=\"_blank\" href=https://colab.research.google.com/notebooks/data_table.ipynb>data table notebook</a>'\n",
              "            + ' to learn more about interactive tables.';\n",
              "          element.innerHTML = '';\n",
              "          dataTable['output_type'] = 'display_data';\n",
              "          await google.colab.output.renderOutput(dataTable, element);\n",
              "          const docLink = document.createElement('div');\n",
              "          docLink.innerHTML = docLinkHtml;\n",
              "          element.appendChild(docLink);\n",
              "        }\n",
              "      </script>\n",
              "    </div>\n",
              "  </div>\n",
              "  "
            ]
          },
          "metadata": {},
          "execution_count": 33
        }
      ]
    },
    {
      "cell_type": "code",
      "metadata": {
        "id": "9O22hUveyiVi",
        "colab": {
          "base_uri": "https://localhost:8080/"
        },
        "outputId": "6ee121b0-cccb-42b7-dd8e-20d3a05f828f"
      },
      "source": [
        "# help you figure out the shape of the dataframe\n",
        "df1.info()"
      ],
      "execution_count": null,
      "outputs": [
        {
          "output_type": "stream",
          "name": "stdout",
          "text": [
            "<class 'pandas.core.frame.DataFrame'>\n",
            "DatetimeIndex: 199 entries, 2022-01-03 to 2022-10-17\n",
            "Data columns (total 6 columns):\n",
            " #   Column     Non-Null Count  Dtype  \n",
            "---  ------     --------------  -----  \n",
            " 0   High       199 non-null    float64\n",
            " 1   Low        199 non-null    float64\n",
            " 2   Open       199 non-null    float64\n",
            " 3   Close      199 non-null    float64\n",
            " 4   Volume     199 non-null    float64\n",
            " 5   Adj Close  199 non-null    float64\n",
            "dtypes: float64(6)\n",
            "memory usage: 10.9 KB\n"
          ]
        }
      ]
    },
    {
      "cell_type": "code",
      "metadata": {
        "id": "8oCocZlDy-3a",
        "colab": {
          "base_uri": "https://localhost:8080/",
          "height": 296
        },
        "outputId": "a398dd25-bfe2-4e16-dcf1-fa48dc434438"
      },
      "source": [
        "# plot and see what's the data look like\n",
        "df1['Close'].plot()"
      ],
      "execution_count": null,
      "outputs": [
        {
          "output_type": "execute_result",
          "data": {
            "text/plain": [
              "<matplotlib.axes._subplots.AxesSubplot at 0x7f74504784d0>"
            ]
          },
          "metadata": {},
          "execution_count": 35
        },
        {
          "output_type": "display_data",
          "data": {
            "text/plain": [
              "<Figure size 432x288 with 1 Axes>"
            ],
            "image/png": "[encoded data removed]"
          },
          "metadata": {
            "needs_background": "light"
          }
        }
      ]
    },
    {
      "cell_type": "code",
      "metadata": {
        "id": "olOYNhmgzrrx",
        "colab": {
          "base_uri": "https://localhost:8080/",
          "height": 257
        },
        "outputId": "e727e31e-9a8a-42c8-a7d0-fa69c6bcc358"
      },
      "source": [
        "df1['Close'].plot(figsize=(15,5))"
      ],
      "execution_count": null,
      "outputs": [
        {
          "output_type": "execute_result",
          "data": {
            "text/plain": [
              "<matplotlib.axes._subplots.AxesSubplot at 0x7f7450373750>"
            ]
          },
          "metadata": {},
          "execution_count": 36
        },
        {
          "output_type": "display_data",
          "data": {
            "text/plain": [
              "<Figure size 1080x360 with 1 Axes>"
            ],
            "image/png": "[encoded data removed]"
          },
          "metadata": {
            "needs_background": "light"
          }
        }
      ]
    },
    {
      "cell_type": "code",
      "metadata": {
        "id": "9_KbM4TS0Eo0",
        "colab": {
          "base_uri": "https://localhost:8080/",
          "height": 296
        },
        "outputId": "e0712fb4-c424-42f5-f390-4e5297139cac"
      },
      "source": [
        "\n",
        "df[['Open','Close']].plot()"
      ],
      "execution_count": null,
      "outputs": [
        {
          "output_type": "execute_result",
          "data": {
            "text/plain": [
              "<matplotlib.axes._subplots.AxesSubplot at 0x7f74502b26d0>"
            ]
          },
          "metadata": {},
          "execution_count": 37
        },
        {
          "output_type": "display_data",
          "data": {
            "text/plain": [
              "<Figure size 432x288 with 1 Axes>"
            ],
            "image/png": "[encoded data removed]"
          },
          "metadata": {
            "needs_background": "light"
          }
        }
      ]
    },
    {
      "cell_type": "code",
      "metadata": {
        "id": "Dyg96wKg0UhC",
        "colab": {
          "base_uri": "https://localhost:8080/"
        },
        "outputId": "57c01efb-2e10-4f17-a371-bdf2bdc459f2"
      },
      "source": [
        "# pct_change for percentage change\n",
        "df1['Close'].pct_change()"
      ],
      "execution_count": null,
      "outputs": [
        {
          "output_type": "execute_result",
          "data": {
            "text/plain": [
              "Date\n",
              "2022-01-03         NaN\n",
              "2022-01-04    0.035714\n",
              "2022-01-05   -0.047526\n",
              "2022-01-06    0.011097\n",
              "2022-01-07   -0.038686\n",
              "                ...   \n",
              "2022-10-11   -0.059164\n",
              "2022-10-12    0.010402\n",
              "2022-10-13    0.039151\n",
              "2022-10-14   -0.040528\n",
              "2022-10-17    0.015175\n",
              "Name: Close, Length: 199, dtype: float64"
            ]
          },
          "metadata": {},
          "execution_count": 38
        }
      ]
    },
    {
      "cell_type": "code",
      "metadata": {
        "id": "k65tv15606IZ",
        "colab": {
          "base_uri": "https://localhost:8080/",
          "height": 296
        },
        "outputId": "81239015-e85c-4bbf-f9bd-ce7906808dc7"
      },
      "source": [
        "df1['Close'].pct_change().plot()"
      ],
      "execution_count": null,
      "outputs": [
        {
          "output_type": "execute_result",
          "data": {
            "text/plain": [
              "<matplotlib.axes._subplots.AxesSubplot at 0x7f745020e650>"
            ]
          },
          "metadata": {},
          "execution_count": 39
        },
        {
          "output_type": "display_data",
          "data": {
            "text/plain": [
              "<Figure size 432x288 with 1 Axes>"
            ],
            "image/png": "[encoded data removed]"
          },
          "metadata": {
            "needs_background": "light"
          }
        }
      ]
    },
    {
      "cell_type": "code",
      "metadata": {
        "id": "Qkh_vMza1Vw6",
        "colab": {
          "base_uri": "https://localhost:8080/",
          "height": 797
        },
        "outputId": "6359a088-6f10-4a3d-86da-91a3d14cfe9e"
      },
      "source": [
        "# give an index name for a month\n",
        "df1['2022-09']"
      ],
      "execution_count": null,
      "outputs": [
        {
          "output_type": "stream",
          "name": "stderr",
          "text": [
            "/usr/local/lib/python3.7/dist-packages/ipykernel_launcher.py:2: FutureWarning: Indexing a DataFrame with a datetimelike index using a single string to slice the rows, like `frame[string]`, is deprecated and will be removed in a future version. Use `frame.loc[string]` instead.\n",
            "  \n"
          ]
        },
        {
          "output_type": "execute_result",
          "data": {
            "text/plain": [
              "                 High        Low       Open      Close      Volume  Adj Close\n",
              "Date                                                                         \n",
              "2022-09-01  81.830002  80.120003  81.449997  81.639999  11566000.0  81.180862\n",
              "2022-09-02  82.980003  80.610001  81.550003  80.900002   8846800.0  80.445030\n",
              "2022-09-06  81.029999  79.519997  81.029999  80.029999  12704400.0  79.579918\n",
              "2022-09-07  80.180000  78.230003  78.389999  79.949997   9843500.0  79.500366\n",
              "2022-09-08  80.739998  78.769997  79.010002  80.239998   8181700.0  79.788734\n",
              "2022-09-09  81.660004  80.739998  80.830002  81.529999   7084700.0  81.071487\n",
              "2022-09-12  82.500000  81.760002  81.970001  82.150002   7903000.0  81.688004\n",
              "2022-09-13  81.139999  78.519997  80.419998  78.809998  12835100.0  78.366783\n",
              "2022-09-14  80.160004  78.980003  79.739998  79.660004   8849600.0  79.212006\n",
              "2022-09-15  79.250000  77.669998  78.580002  77.980003  10533100.0  77.980003\n",
              "2022-09-16  78.000000  76.919998  77.110001  77.889999  10603600.0  77.889999\n",
              "2022-09-19  78.230003  76.550003  76.550003  78.230003  10378600.0  78.230003\n",
              "2022-09-20  78.440002  77.510002  77.540001  78.150002   8202800.0  78.150002\n",
              "2022-09-21  79.309998  77.139999  77.580002  77.139999  10869000.0  77.139999\n",
              "2022-09-22  76.750000  75.360001  76.449997  75.629997  10817900.0  75.629997\n",
              "2022-09-23  74.389999  73.089996  74.300003  73.870003  12684000.0  73.870003\n",
              "2022-09-26  74.190002  72.919998  73.470001  73.010002  13441500.0  73.010002\n",
              "2022-09-27  74.040001  72.349998  73.510002  73.029999  12430600.0  73.029999\n",
              "2022-09-28  72.290001  70.699997  71.110001  72.129997  12943600.0  72.129997\n",
              "2022-09-29  70.680000  68.480003  70.519997  69.279999  16120300.0  69.279999\n",
              "2022-09-30  69.650002  67.739998  67.809998  68.559998  10463200.0  68.559998"
            ],
            "text/html": [
              "\n",
              "  <div id=\"df-fd4282ca-1613-44fb-a548-f960bf9bf092\">\n",
              "    <div class=\"colab-df-container\">\n",
              "      <div>\n",
              "<style scoped>\n",
              "    .dataframe tbody tr th:only-of-type {\n",
              "        vertical-align: middle;\n",
              "    }\n",
              "\n",
              "    .dataframe tbody tr th {\n",
              "        vertical-align: top;\n",
              "    }\n",
              "\n",
              "    .dataframe thead th {\n",
              "        text-align: right;\n",
              "    }\n",
              "</style>\n",
              "<table border=\"1\" class=\"dataframe\">\n",
              "  <thead>\n",
              "    <tr style=\"text-align: right;\">\n",
              "      <th></th>\n",
              "      <th>High</th>\n",
              "      <th>Low</th>\n",
              "      <th>Open</th>\n",
              "      <th>Close</th>\n",
              "      <th>Volume</th>\n",
              "      <th>Adj Close</th>\n",
              "    </tr>\n",
              "    <tr>\n",
              "      <th>Date</th>\n",
              "      <th></th>\n",
              "      <th></th>\n",
              "      <th></th>\n",
              "      <th></th>\n",
              "      <th></th>\n",
              "      <th></th>\n",
              "    </tr>\n",
              "  </thead>\n",
              "  <tbody>\n",
              "    <tr>\n",
              "      <th>2022-09-01</th>\n",
              "      <td>81.830002</td>\n",
              "      <td>80.120003</td>\n",
              "      <td>81.449997</td>\n",
              "      <td>81.639999</td>\n",
              "      <td>11566000.0</td>\n",
              "      <td>81.180862</td>\n",
              "    </tr>\n",
              "    <tr>\n",
              "      <th>2022-09-02</th>\n",
              "      <td>82.980003</td>\n",
              "      <td>80.610001</td>\n",
              "      <td>81.550003</td>\n",
              "      <td>80.900002</td>\n",
              "      <td>8846800.0</td>\n",
              "      <td>80.445030</td>\n",
              "    </tr>\n",
              "    <tr>\n",
              "      <th>2022-09-06</th>\n",
              "      <td>81.029999</td>\n",
              "      <td>79.519997</td>\n",
              "      <td>81.029999</td>\n",
              "      <td>80.029999</td>\n",
              "      <td>12704400.0</td>\n",
              "      <td>79.579918</td>\n",
              "    </tr>\n",
              "    <tr>\n",
              "      <th>2022-09-07</th>\n",
              "      <td>80.180000</td>\n",
              "      <td>78.230003</td>\n",
              "      <td>78.389999</td>\n",
              "      <td>79.949997</td>\n",
              "      <td>9843500.0</td>\n",
              "      <td>79.500366</td>\n",
              "    </tr>\n",
              "    <tr>\n",
              "      <th>2022-09-08</th>\n",
              "      <td>80.739998</td>\n",
              "      <td>78.769997</td>\n",
              "      <td>79.010002</td>\n",
              "      <td>80.239998</td>\n",
              "      <td>8181700.0</td>\n",
              "      <td>79.788734</td>\n",
              "    </tr>\n",
              "    <tr>\n",
              "      <th>2022-09-09</th>\n",
              "      <td>81.660004</td>\n",
              "      <td>80.739998</td>\n",
              "      <td>80.830002</td>\n",
              "      <td>81.529999</td>\n",
              "      <td>7084700.0</td>\n",
              "      <td>81.071487</td>\n",
              "    </tr>\n",
              "    <tr>\n",
              "      <th>2022-09-12</th>\n",
              "      <td>82.500000</td>\n",
              "      <td>81.760002</td>\n",
              "      <td>81.970001</td>\n",
              "      <td>82.150002</td>\n",
              "      <td>7903000.0</td>\n",
              "      <td>81.688004</td>\n",
              "    </tr>\n",
              "    <tr>\n",
              "      <th>2022-09-13</th>\n",
              "      <td>81.139999</td>\n",
              "      <td>78.519997</td>\n",
              "      <td>80.419998</td>\n",
              "      <td>78.809998</td>\n",
              "      <td>12835100.0</td>\n",
              "      <td>78.366783</td>\n",
              "    </tr>\n",
              "    <tr>\n",
              "      <th>2022-09-14</th>\n",
              "      <td>80.160004</td>\n",
              "      <td>78.980003</td>\n",
              "      <td>79.739998</td>\n",
              "      <td>79.660004</td>\n",
              "      <td>8849600.0</td>\n",
              "      <td>79.212006</td>\n",
              "    </tr>\n",
              "    <tr>\n",
              "      <th>2022-09-15</th>\n",
              "      <td>79.250000</td>\n",
              "      <td>77.669998</td>\n",
              "      <td>78.580002</td>\n",
              "      <td>77.980003</td>\n",
              "      <td>10533100.0</td>\n",
              "      <td>77.980003</td>\n",
              "    </tr>\n",
              "    <tr>\n",
              "      <th>2022-09-16</th>\n",
              "      <td>78.000000</td>\n",
              "      <td>76.919998</td>\n",
              "      <td>77.110001</td>\n",
              "      <td>77.889999</td>\n",
              "      <td>10603600.0</td>\n",
              "      <td>77.889999</td>\n",
              "    </tr>\n",
              "    <tr>\n",
              "      <th>2022-09-19</th>\n",
              "      <td>78.230003</td>\n",
              "      <td>76.550003</td>\n",
              "      <td>76.550003</td>\n",
              "      <td>78.230003</td>\n",
              "      <td>10378600.0</td>\n",
              "      <td>78.230003</td>\n",
              "    </tr>\n",
              "    <tr>\n",
              "      <th>2022-09-20</th>\n",
              "      <td>78.440002</td>\n",
              "      <td>77.510002</td>\n",
              "      <td>77.540001</td>\n",
              "      <td>78.150002</td>\n",
              "      <td>8202800.0</td>\n",
              "      <td>78.150002</td>\n",
              "    </tr>\n",
              "    <tr>\n",
              "      <th>2022-09-21</th>\n",
              "      <td>79.309998</td>\n",
              "      <td>77.139999</td>\n",
              "      <td>77.580002</td>\n",
              "      <td>77.139999</td>\n",
              "      <td>10869000.0</td>\n",
              "      <td>77.139999</td>\n",
              "    </tr>\n",
              "    <tr>\n",
              "      <th>2022-09-22</th>\n",
              "      <td>76.750000</td>\n",
              "      <td>75.360001</td>\n",
              "      <td>76.449997</td>\n",
              "      <td>75.629997</td>\n",
              "      <td>10817900.0</td>\n",
              "      <td>75.629997</td>\n",
              "    </tr>\n",
              "    <tr>\n",
              "      <th>2022-09-23</th>\n",
              "      <td>74.389999</td>\n",
              "      <td>73.089996</td>\n",
              "      <td>74.300003</td>\n",
              "      <td>73.870003</td>\n",
              "      <td>12684000.0</td>\n",
              "      <td>73.870003</td>\n",
              "    </tr>\n",
              "    <tr>\n",
              "      <th>2022-09-26</th>\n",
              "      <td>74.190002</td>\n",
              "      <td>72.919998</td>\n",
              "      <td>73.470001</td>\n",
              "      <td>73.010002</td>\n",
              "      <td>13441500.0</td>\n",
              "      <td>73.010002</td>\n",
              "    </tr>\n",
              "    <tr>\n",
              "      <th>2022-09-27</th>\n",
              "      <td>74.040001</td>\n",
              "      <td>72.349998</td>\n",
              "      <td>73.510002</td>\n",
              "      <td>73.029999</td>\n",
              "      <td>12430600.0</td>\n",
              "      <td>73.029999</td>\n",
              "    </tr>\n",
              "    <tr>\n",
              "      <th>2022-09-28</th>\n",
              "      <td>72.290001</td>\n",
              "      <td>70.699997</td>\n",
              "      <td>71.110001</td>\n",
              "      <td>72.129997</td>\n",
              "      <td>12943600.0</td>\n",
              "      <td>72.129997</td>\n",
              "    </tr>\n",
              "    <tr>\n",
              "      <th>2022-09-29</th>\n",
              "      <td>70.680000</td>\n",
              "      <td>68.480003</td>\n",
              "      <td>70.519997</td>\n",
              "      <td>69.279999</td>\n",
              "      <td>16120300.0</td>\n",
              "      <td>69.279999</td>\n",
              "    </tr>\n",
              "    <tr>\n",
              "      <th>2022-09-30</th>\n",
              "      <td>69.650002</td>\n",
              "      <td>67.739998</td>\n",
              "      <td>67.809998</td>\n",
              "      <td>68.559998</td>\n",
              "      <td>10463200.0</td>\n",
              "      <td>68.559998</td>\n",
              "    </tr>\n",
              "  </tbody>\n",
              "</table>\n",
              "</div>\n",
              "      <button class=\"colab-df-convert\" onclick=\"convertToInteractive('df-fd4282ca-1613-44fb-a548-f960bf9bf092')\"\n",
              "              title=\"Convert this dataframe to an interactive table.\"\n",
              "              style=\"display:none;\">\n",
              "        \n",
              "  <svg xmlns=\"http://www.w3.org/2000/svg\" height=\"24px\"viewBox=\"0 0 24 24\"\n",
              "       width=\"24px\">\n",
              "    <path d=\"M0 0h24v24H0V0z\" fill=\"none\"/>\n",
              "    <path d=\"M18.56 5.44l.94 2.06.94-2.06 2.06-.94-2.06-.94-.94-2.06-.94 2.06-2.06.94zm-11 1L8.5 8.5l.94-2.06 2.06-.94-2.06-.94L8.5 2.5l-.94 2.06-2.06.94zm10 10l.94 2.06.94-2.06 2.06-.94-2.06-.94-.94-2.06-.94 2.06-2.06.94z\"/><path d=\"M17.41 7.96l-1.37-1.37c-.4-.4-.92-.59-1.43-.59-.52 0-1.04.2-1.43.59L10.3 9.45l-7.72 7.72c-.78.78-.78 2.05 0 2.83L4 21.41c.39.39.9.59 1.41.59.51 0 1.02-.2 1.41-.59l7.78-7.78 2.81-2.81c.8-.78.8-2.07 0-2.86zM5.41 20L4 18.59l7.72-7.72 1.47 1.35L5.41 20z\"/>\n",
              "  </svg>\n",
              "      </button>\n",
              "      \n",
              "  <style>\n",
              "    .colab-df-container {\n",
              "      display:flex;\n",
              "      flex-wrap:wrap;\n",
              "      gap: 12px;\n",
              "    }\n",
              "\n",
              "    .colab-df-convert {\n",
              "      background-color: #E8F0FE;\n",
              "      border: none;\n",
              "      border-radius: 50%;\n",
              "      cursor: pointer;\n",
              "      display: none;\n",
              "      fill: #1967D2;\n",
              "      height: 32px;\n",
              "      padding: 0 0 0 0;\n",
              "      width: 32px;\n",
              "    }\n",
              "\n",
              "    .colab-df-convert:hover {\n",
              "      background-color: #E2EBFA;\n",
              "      box-shadow: 0px 1px 2px rgba(60, 64, 67, 0.3), 0px 1px 3px 1px rgba(60, 64, 67, 0.15);\n",
              "      fill: #174EA6;\n",
              "    }\n",
              "\n",
              "    [theme=dark] .colab-df-convert {\n",
              "      background-color: #3B4455;\n",
              "      fill: #D2E3FC;\n",
              "    }\n",
              "\n",
              "    [theme=dark] .colab-df-convert:hover {\n",
              "      background-color: #434B5C;\n",
              "      box-shadow: 0px 1px 3px 1px rgba(0, 0, 0, 0.15);\n",
              "      filter: drop-shadow(0px 1px 2px rgba(0, 0, 0, 0.3));\n",
              "      fill: #FFFFFF;\n",
              "    }\n",
              "  </style>\n",
              "\n",
              "      <script>\n",
              "        const buttonEl =\n",
              "          document.querySelector('#df-fd4282ca-1613-44fb-a548-f960bf9bf092 button.colab-df-convert');\n",
              "        buttonEl.style.display =\n",
              "          google.colab.kernel.accessAllowed ? 'block' : 'none';\n",
              "\n",
              "        async function convertToInteractive(key) {\n",
              "          const element = document.querySelector('#df-fd4282ca-1613-44fb-a548-f960bf9bf092');\n",
              "          const dataTable =\n",
              "            await google.colab.kernel.invokeFunction('convertToInteractive',\n",
              "                                                     [key], {});\n",
              "          if (!dataTable) return;\n",
              "\n",
              "          const docLinkHtml = 'Like what you see? Visit the ' +\n",
              "            '<a target=\"_blank\" href=https://colab.research.google.com/notebooks/data_table.ipynb>data table notebook</a>'\n",
              "            + ' to learn more about interactive tables.';\n",
              "          element.innerHTML = '';\n",
              "          dataTable['output_type'] = 'display_data';\n",
              "          await google.colab.output.renderOutput(dataTable, element);\n",
              "          const docLink = document.createElement('div');\n",
              "          docLink.innerHTML = docLinkHtml;\n",
              "          element.appendChild(docLink);\n",
              "        }\n",
              "      </script>\n",
              "    </div>\n",
              "  </div>\n",
              "  "
            ]
          },
          "metadata": {},
          "execution_count": 40
        }
      ]
    },
    {
      "cell_type": "code",
      "metadata": {
        "id": "BAYBGliS1xL9"
      },
      "source": [],
      "execution_count": null,
      "outputs": []
    },
    {
      "cell_type": "markdown",
      "metadata": {
        "id": "iX8nG5wi61u0"
      },
      "source": [
        "# **Different package is useful during differnt stage of machine learning**\n",
        "\n",
        "1. Pandas: data cleaning stage\n",
        "2. Numpy: science calculation\n",
        "\n",
        "3. SciKit-Learn: science kit for machine learning\n",
        "4. Keras: Deep Learning"
      ]
    },
    {
      "cell_type": "code",
      "metadata": {
        "id": "S9g6U1j3VdO8"
      },
      "source": [
        "# How to get data from certain column?\n",
        "close_price = df1.Close # save data into variable"
      ],
      "execution_count": null,
      "outputs": []
    },
    {
      "cell_type": "code",
      "metadata": {
        "colab": {
          "base_uri": "https://localhost:8080/"
        },
        "id": "vJnBd-BuWDpc",
        "outputId": "e9665652-0544-4ee4-e15c-40d53f0f6aa6"
      },
      "source": [
        "# take a look\n",
        "close_price"
      ],
      "execution_count": null,
      "outputs": [
        {
          "output_type": "execute_result",
          "data": {
            "text/plain": [
              "Date\n",
              "2022-01-03    128.800003\n",
              "2022-01-04    133.399994\n",
              "2022-01-05    127.059998\n",
              "2022-01-06    128.470001\n",
              "2022-01-07    123.500000\n",
              "                 ...    \n",
              "2022-10-11     63.450001\n",
              "2022-10-12     64.110001\n",
              "2022-10-13     66.620003\n",
              "2022-10-14     63.919998\n",
              "2022-10-17     64.889999\n",
              "Name: Close, Length: 199, dtype: float64"
            ]
          },
          "metadata": {},
          "execution_count": 42
        }
      ]
    },
    {
      "cell_type": "code",
      "metadata": {
        "id": "5xk7MQRIWR9U"
      },
      "source": [
        "# Don't need the info of \"Date\"\n",
        "close_price = df1.Close.values"
      ],
      "execution_count": null,
      "outputs": []
    },
    {
      "cell_type": "code",
      "metadata": {
        "colab": {
          "base_uri": "https://localhost:8080/"
        },
        "id": "9yX30ftvWipS",
        "outputId": "be928d79-295e-489a-a9dc-e1e63feb5720"
      },
      "source": [
        "# take a look at close_price again, \n",
        "# see if we get rid of the \"date\"\n",
        "close_price "
      ],
      "execution_count": null,
      "outputs": [
        {
          "output_type": "execute_result",
          "data": {
            "text/plain": [
              "array([128.80000305, 133.3999939 , 127.05999756, 128.47000122,\n",
              "       123.5       , 125.01000214, 129.16999817, 132.22999573,\n",
              "       139.19000244, 140.66000366, 133.83000183, 131.00999451,\n",
              "       128.33000183, 124.52999878, 125.95999908, 122.48000336,\n",
              "       123.08000183, 116.37999725, 117.61000061, 122.62999725,\n",
              "       123.05000305, 124.15000153, 119.83999634, 121.01999664,\n",
              "       122.30999756, 123.70999908, 125.51999664, 124.70999908,\n",
              "       121.01000214, 119.76999664, 124.51999664, 123.59999847,\n",
              "       119.76000214, 119.30999756, 116.91000366, 115.90000153,\n",
              "       111.87999725, 111.23000336, 107.01000214, 108.05000305,\n",
              "       109.61000061, 108.79000092, 105.05999756,  99.29000092,\n",
              "       100.        , 104.94999695, 103.95999908, 101.41000366,\n",
              "        99.30000305, 102.08999634, 105.69000244, 106.48999786,\n",
              "       106.72000122, 106.91999817, 107.04000092, 105.34999847,\n",
              "       107.91999817, 106.73000336, 106.33000183, 109.25      ,\n",
              "       106.73000336, 104.26000214, 102.79000092, 104.79000092,\n",
              "       102.5       , 101.18000031, 100.51999664,  99.29000092,\n",
              "        97.56999969,  97.44000244, 101.5       ,  98.36000061,\n",
              "        98.76999664,  99.44999695,  99.01000214,  97.66000366,\n",
              "        95.68000031,  96.23999786,  92.76999664,  90.26000214,\n",
              "        95.22000122,  92.93000031,  93.76000214,  93.62999725,\n",
              "        95.98999786,  92.15000153,  91.62999725,  87.30000305,\n",
              "        88.81999969,  87.83000183,  87.69000244,  90.95999908,\n",
              "        90.41000366,  93.31999969,  90.52999878,  90.20999908,\n",
              "        90.77999878,  91.5       ,  88.72000122,  90.41000366,\n",
              "        91.        ,  93.76999664,  95.30000305,  94.75      ,\n",
              "        96.33999634,  93.76999664,  93.11000061,  93.83999634,\n",
              "        93.47000122,  90.84999847,  88.68000031,  85.55000305,\n",
              "        87.19000244,  89.12999725,  84.51999664,  85.        ,\n",
              "        86.94999695,  84.91000366,  84.12000275,  85.91999817,\n",
              "        85.86000061,  84.33999634,  83.65000153,  81.75      ,\n",
              "        77.        ,  76.11000061,  75.55999756,  80.65000153,\n",
              "        81.51000214,  79.11000061,  79.09999847,  81.29000092,\n",
              "        83.66999817,  85.62999725,  83.58000183,  86.15000153,\n",
              "        86.55999756,  87.79000092,  86.31999969,  86.30000305,\n",
              "        84.41999817,  87.62999725,  88.61000061,  88.48000336,\n",
              "        86.30999756,  86.05000305,  86.51000214,  88.41999817,\n",
              "        89.76999664,  87.94000244,  85.20999908,  88.66999817,\n",
              "        89.51999664,  90.86000061,  91.56999969,  89.94999695,\n",
              "        89.19999695,  89.26999664,  87.19999695,  85.23999786,\n",
              "        86.02999878,  85.55999756,  87.56999969,  84.73999786,\n",
              "        82.84999847,  82.79000092,  83.34999847,  81.63999939,\n",
              "        80.90000153,  80.02999878,  79.94999695,  80.23999786,\n",
              "        81.52999878,  82.15000153,  78.80999756,  79.66000366,\n",
              "        77.98000336,  77.88999939,  78.23000336,  78.15000153,\n",
              "        77.13999939,  75.62999725,  73.87000275,  73.01000214,\n",
              "        73.02999878,  72.12999725,  69.27999878,  68.55999756,\n",
              "        69.25      ,  72.80999756,  74.48000336,  74.34999847,\n",
              "        69.75      ,  67.44000244,  63.45000076,  64.11000061,\n",
              "        66.62000275,  63.91999817,  64.88999939])"
            ]
          },
          "metadata": {},
          "execution_count": 44
        }
      ]
    },
    {
      "cell_type": "code",
      "metadata": {
        "id": "R3i9aPcXYSuL"
      },
      "source": [
        "# what's input/outout?\n",
        "X = close_price[:-1] # sliding data > exclude the last row\n",
        "Y = close_price[1:]  # sliding data > exclude the first (0) row"
      ],
      "execution_count": null,
      "outputs": []
    },
    {
      "cell_type": "code",
      "metadata": {
        "colab": {
          "base_uri": "https://localhost:8080/"
        },
        "id": "EoyqLMPTZNHc",
        "outputId": "639b4724-97aa-4348-98dc-57d5902dde0c"
      },
      "source": [
        "# check the shape of input\n",
        "X.shape"
      ],
      "execution_count": null,
      "outputs": [
        {
          "output_type": "execute_result",
          "data": {
            "text/plain": [
              "(198,)"
            ]
          },
          "metadata": {},
          "execution_count": 46
        }
      ]
    },
    {
      "cell_type": "code",
      "metadata": {
        "colab": {
          "base_uri": "https://localhost:8080/"
        },
        "id": "QTcWRKJaes5L",
        "outputId": "09a82d02-667d-4a81-fd08-d491841a65dd"
      },
      "source": [
        "X # ML model input "
      ],
      "execution_count": null,
      "outputs": [
        {
          "output_type": "execute_result",
          "data": {
            "text/plain": [
              "array([128.80000305, 133.3999939 , 127.05999756, 128.47000122,\n",
              "       123.5       , 125.01000214, 129.16999817, 132.22999573,\n",
              "       139.19000244, 140.66000366, 133.83000183, 131.00999451,\n",
              "       128.33000183, 124.52999878, 125.95999908, 122.48000336,\n",
              "       123.08000183, 116.37999725, 117.61000061, 122.62999725,\n",
              "       123.05000305, 124.15000153, 119.83999634, 121.01999664,\n",
              "       122.30999756, 123.70999908, 125.51999664, 124.70999908,\n",
              "       121.01000214, 119.76999664, 124.51999664, 123.59999847,\n",
              "       119.76000214, 119.30999756, 116.91000366, 115.90000153,\n",
              "       111.87999725, 111.23000336, 107.01000214, 108.05000305,\n",
              "       109.61000061, 108.79000092, 105.05999756,  99.29000092,\n",
              "       100.        , 104.94999695, 103.95999908, 101.41000366,\n",
              "        99.30000305, 102.08999634, 105.69000244, 106.48999786,\n",
              "       106.72000122, 106.91999817, 107.04000092, 105.34999847,\n",
              "       107.91999817, 106.73000336, 106.33000183, 109.25      ,\n",
              "       106.73000336, 104.26000214, 102.79000092, 104.79000092,\n",
              "       102.5       , 101.18000031, 100.51999664,  99.29000092,\n",
              "        97.56999969,  97.44000244, 101.5       ,  98.36000061,\n",
              "        98.76999664,  99.44999695,  99.01000214,  97.66000366,\n",
              "        95.68000031,  96.23999786,  92.76999664,  90.26000214,\n",
              "        95.22000122,  92.93000031,  93.76000214,  93.62999725,\n",
              "        95.98999786,  92.15000153,  91.62999725,  87.30000305,\n",
              "        88.81999969,  87.83000183,  87.69000244,  90.95999908,\n",
              "        90.41000366,  93.31999969,  90.52999878,  90.20999908,\n",
              "        90.77999878,  91.5       ,  88.72000122,  90.41000366,\n",
              "        91.        ,  93.76999664,  95.30000305,  94.75      ,\n",
              "        96.33999634,  93.76999664,  93.11000061,  93.83999634,\n",
              "        93.47000122,  90.84999847,  88.68000031,  85.55000305,\n",
              "        87.19000244,  89.12999725,  84.51999664,  85.        ,\n",
              "        86.94999695,  84.91000366,  84.12000275,  85.91999817,\n",
              "        85.86000061,  84.33999634,  83.65000153,  81.75      ,\n",
              "        77.        ,  76.11000061,  75.55999756,  80.65000153,\n",
              "        81.51000214,  79.11000061,  79.09999847,  81.29000092,\n",
              "        83.66999817,  85.62999725,  83.58000183,  86.15000153,\n",
              "        86.55999756,  87.79000092,  86.31999969,  86.30000305,\n",
              "        84.41999817,  87.62999725,  88.61000061,  88.48000336,\n",
              "        86.30999756,  86.05000305,  86.51000214,  88.41999817,\n",
              "        89.76999664,  87.94000244,  85.20999908,  88.66999817,\n",
              "        89.51999664,  90.86000061,  91.56999969,  89.94999695,\n",
              "        89.19999695,  89.26999664,  87.19999695,  85.23999786,\n",
              "        86.02999878,  85.55999756,  87.56999969,  84.73999786,\n",
              "        82.84999847,  82.79000092,  83.34999847,  81.63999939,\n",
              "        80.90000153,  80.02999878,  79.94999695,  80.23999786,\n",
              "        81.52999878,  82.15000153,  78.80999756,  79.66000366,\n",
              "        77.98000336,  77.88999939,  78.23000336,  78.15000153,\n",
              "        77.13999939,  75.62999725,  73.87000275,  73.01000214,\n",
              "        73.02999878,  72.12999725,  69.27999878,  68.55999756,\n",
              "        69.25      ,  72.80999756,  74.48000336,  74.34999847,\n",
              "        69.75      ,  67.44000244,  63.45000076,  64.11000061,\n",
              "        66.62000275,  63.91999817])"
            ]
          },
          "metadata": {},
          "execution_count": 47
        }
      ]
    },
    {
      "cell_type": "code",
      "metadata": {
        "colab": {
          "base_uri": "https://localhost:8080/"
        },
        "id": "es_M6zy3Z4Bd",
        "outputId": "78c89ed4-aebb-485c-cef1-41879a11b9a1"
      },
      "source": [
        "# python ML/DL problem prefer this data\n",
        "X.reshape(198,1)\n",
        "# without reshape, will have error msg later on"
      ],
      "execution_count": null,
      "outputs": [
        {
          "output_type": "execute_result",
          "data": {
            "text/plain": [
              "array([[128.80000305],\n",
              "       [133.3999939 ],\n",
              "       [127.05999756],\n",
              "       [128.47000122],\n",
              "       [123.5       ],\n",
              "       [125.01000214],\n",
              "       [129.16999817],\n",
              "       [132.22999573],\n",
              "       [139.19000244],\n",
              "       [140.66000366],\n",
              "       [133.83000183],\n",
              "       [131.00999451],\n",
              "       [128.33000183],\n",
              "       [124.52999878],\n",
              "       [125.95999908],\n",
              "       [122.48000336],\n",
              "       [123.08000183],\n",
              "       [116.37999725],\n",
              "       [117.61000061],\n",
              "       [122.62999725],\n",
              "       [123.05000305],\n",
              "       [124.15000153],\n",
              "       [119.83999634],\n",
              "       [121.01999664],\n",
              "       [122.30999756],\n",
              "       [123.70999908],\n",
              "       [125.51999664],\n",
              "       [124.70999908],\n",
              "       [121.01000214],\n",
              "       [119.76999664],\n",
              "       [124.51999664],\n",
              "       [123.59999847],\n",
              "       [119.76000214],\n",
              "       [119.30999756],\n",
              "       [116.91000366],\n",
              "       [115.90000153],\n",
              "       [111.87999725],\n",
              "       [111.23000336],\n",
              "       [107.01000214],\n",
              "       [108.05000305],\n",
              "       [109.61000061],\n",
              "       [108.79000092],\n",
              "       [105.05999756],\n",
              "       [ 99.29000092],\n",
              "       [100.        ],\n",
              "       [104.94999695],\n",
              "       [103.95999908],\n",
              "       [101.41000366],\n",
              "       [ 99.30000305],\n",
              "       [102.08999634],\n",
              "       [105.69000244],\n",
              "       [106.48999786],\n",
              "       [106.72000122],\n",
              "       [106.91999817],\n",
              "       [107.04000092],\n",
              "       [105.34999847],\n",
              "       [107.91999817],\n",
              "       [106.73000336],\n",
              "       [106.33000183],\n",
              "       [109.25      ],\n",
              "       [106.73000336],\n",
              "       [104.26000214],\n",
              "       [102.79000092],\n",
              "       [104.79000092],\n",
              "       [102.5       ],\n",
              "       [101.18000031],\n",
              "       [100.51999664],\n",
              "       [ 99.29000092],\n",
              "       [ 97.56999969],\n",
              "       [ 97.44000244],\n",
              "       [101.5       ],\n",
              "       [ 98.36000061],\n",
              "       [ 98.76999664],\n",
              "       [ 99.44999695],\n",
              "       [ 99.01000214],\n",
              "       [ 97.66000366],\n",
              "       [ 95.68000031],\n",
              "       [ 96.23999786],\n",
              "       [ 92.76999664],\n",
              "       [ 90.26000214],\n",
              "       [ 95.22000122],\n",
              "       [ 92.93000031],\n",
              "       [ 93.76000214],\n",
              "       [ 93.62999725],\n",
              "       [ 95.98999786],\n",
              "       [ 92.15000153],\n",
              "       [ 91.62999725],\n",
              "       [ 87.30000305],\n",
              "       [ 88.81999969],\n",
              "       [ 87.83000183],\n",
              "       [ 87.69000244],\n",
              "       [ 90.95999908],\n",
              "       [ 90.41000366],\n",
              "       [ 93.31999969],\n",
              "       [ 90.52999878],\n",
              "       [ 90.20999908],\n",
              "       [ 90.77999878],\n",
              "       [ 91.5       ],\n",
              "       [ 88.72000122],\n",
              "       [ 90.41000366],\n",
              "       [ 91.        ],\n",
              "       [ 93.76999664],\n",
              "       [ 95.30000305],\n",
              "       [ 94.75      ],\n",
              "       [ 96.33999634],\n",
              "       [ 93.76999664],\n",
              "       [ 93.11000061],\n",
              "       [ 93.83999634],\n",
              "       [ 93.47000122],\n",
              "       [ 90.84999847],\n",
              "       [ 88.68000031],\n",
              "       [ 85.55000305],\n",
              "       [ 87.19000244],\n",
              "       [ 89.12999725],\n",
              "       [ 84.51999664],\n",
              "       [ 85.        ],\n",
              "       [ 86.94999695],\n",
              "       [ 84.91000366],\n",
              "       [ 84.12000275],\n",
              "       [ 85.91999817],\n",
              "       [ 85.86000061],\n",
              "       [ 84.33999634],\n",
              "       [ 83.65000153],\n",
              "       [ 81.75      ],\n",
              "       [ 77.        ],\n",
              "       [ 76.11000061],\n",
              "       [ 75.55999756],\n",
              "       [ 80.65000153],\n",
              "       [ 81.51000214],\n",
              "       [ 79.11000061],\n",
              "       [ 79.09999847],\n",
              "       [ 81.29000092],\n",
              "       [ 83.66999817],\n",
              "       [ 85.62999725],\n",
              "       [ 83.58000183],\n",
              "       [ 86.15000153],\n",
              "       [ 86.55999756],\n",
              "       [ 87.79000092],\n",
              "       [ 86.31999969],\n",
              "       [ 86.30000305],\n",
              "       [ 84.41999817],\n",
              "       [ 87.62999725],\n",
              "       [ 88.61000061],\n",
              "       [ 88.48000336],\n",
              "       [ 86.30999756],\n",
              "       [ 86.05000305],\n",
              "       [ 86.51000214],\n",
              "       [ 88.41999817],\n",
              "       [ 89.76999664],\n",
              "       [ 87.94000244],\n",
              "       [ 85.20999908],\n",
              "       [ 88.66999817],\n",
              "       [ 89.51999664],\n",
              "       [ 90.86000061],\n",
              "       [ 91.56999969],\n",
              "       [ 89.94999695],\n",
              "       [ 89.19999695],\n",
              "       [ 89.26999664],\n",
              "       [ 87.19999695],\n",
              "       [ 85.23999786],\n",
              "       [ 86.02999878],\n",
              "       [ 85.55999756],\n",
              "       [ 87.56999969],\n",
              "       [ 84.73999786],\n",
              "       [ 82.84999847],\n",
              "       [ 82.79000092],\n",
              "       [ 83.34999847],\n",
              "       [ 81.63999939],\n",
              "       [ 80.90000153],\n",
              "       [ 80.02999878],\n",
              "       [ 79.94999695],\n",
              "       [ 80.23999786],\n",
              "       [ 81.52999878],\n",
              "       [ 82.15000153],\n",
              "       [ 78.80999756],\n",
              "       [ 79.66000366],\n",
              "       [ 77.98000336],\n",
              "       [ 77.88999939],\n",
              "       [ 78.23000336],\n",
              "       [ 78.15000153],\n",
              "       [ 77.13999939],\n",
              "       [ 75.62999725],\n",
              "       [ 73.87000275],\n",
              "       [ 73.01000214],\n",
              "       [ 73.02999878],\n",
              "       [ 72.12999725],\n",
              "       [ 69.27999878],\n",
              "       [ 68.55999756],\n",
              "       [ 69.25      ],\n",
              "       [ 72.80999756],\n",
              "       [ 74.48000336],\n",
              "       [ 74.34999847],\n",
              "       [ 69.75      ],\n",
              "       [ 67.44000244],\n",
              "       [ 63.45000076],\n",
              "       [ 64.11000061],\n",
              "       [ 66.62000275],\n",
              "       [ 63.91999817]])"
            ]
          },
          "metadata": {},
          "execution_count": 49
        }
      ]
    },
    {
      "cell_type": "code",
      "metadata": {
        "colab": {
          "base_uri": "https://localhost:8080/",
          "height": 284
        },
        "id": "MlmaRsKbabmr",
        "outputId": "f9b1bd32-f6b1-4b00-9b20-806f90890859"
      },
      "source": [
        "# take a look at the relationship btw X & Y\n",
        "import matplotlib.pyplot as plt\n",
        "plt.scatter(X,Y,alpha=0.5)\n",
        "# conlcusion: linear regression is doable for this forecasting"
      ],
      "execution_count": null,
      "outputs": [
        {
          "output_type": "execute_result",
          "data": {
            "text/plain": [
              "<matplotlib.collections.PathCollection at 0x7f74502bb0d0>"
            ]
          },
          "metadata": {},
          "execution_count": 50
        },
        {
          "output_type": "display_data",
          "data": {
            "text/plain": [
              "<Figure size 432x288 with 1 Axes>"
            ],
            "image/png": "[encoded data removed]"
          },
          "metadata": {
            "needs_background": "light"
          }
        }
      ]
    },
    {
      "cell_type": "code",
      "metadata": {
        "colab": {
          "base_uri": "https://localhost:8080/",
          "height": 284
        },
        "id": "fEP9YttXdFcc",
        "outputId": "02dd6c06-b8f2-48bc-af88-0ccedbf25338"
      },
      "source": [
        "plt.scatter(X,Y,alpha=1)\n",
        "# alpha = transperancy"
      ],
      "execution_count": null,
      "outputs": [
        {
          "output_type": "execute_result",
          "data": {
            "text/plain": [
              "<matplotlib.collections.PathCollection at 0x7f744fcbc910>"
            ]
          },
          "metadata": {},
          "execution_count": 51
        },
        {
          "output_type": "display_data",
          "data": {
            "text/plain": [
              "<Figure size 432x288 with 1 Axes>"
            ],
            "image/png": "[encoded data removed]"
          },
          "metadata": {
            "needs_background": "light"
          }
        }
      ]
    },
    {
      "cell_type": "code",
      "metadata": {
        "id": "5z7g03MUbn2j"
      },
      "source": [
        "# done with: data import/cleaning/prepare\n",
        "# start modeling\n",
        "from sklearn.linear_model import LinearRegression"
      ],
      "execution_count": null,
      "outputs": []
    },
    {
      "cell_type": "code",
      "metadata": {
        "id": "Wz1oTSZgb-P0"
      },
      "source": [
        "# Start a machine learning (for regression)\n",
        "mymodelregr = LinearRegression()\n",
        "# LHS = any name you give to your model (mymodelregr)"
      ],
      "execution_count": null,
      "outputs": []
    },
    {
      "cell_type": "code",
      "metadata": {
        "id": "quBHftHrcgK0"
      },
      "source": [
        "# cut whole dataset into two parts: training/testing\n",
        "# total trading = 198\n",
        "# use the last 40 days as testing data\n",
        "X_train = X[:-40]\n",
        "X_test = X[-40:]\n",
        "\n",
        "Y_train = Y[:-40]\n",
        "Y_test = Y[-40:] "
      ],
      "execution_count": null,
      "outputs": []
    },
    {
      "cell_type": "code",
      "metadata": {
        "colab": {
          "base_uri": "https://localhost:8080/"
        },
        "id": "JldG202KgOt6",
        "outputId": "8027eafb-c47a-4d8d-e196-cbf4b353f53a"
      },
      "source": [
        "X_train.shape"
      ],
      "execution_count": null,
      "outputs": [
        {
          "output_type": "execute_result",
          "data": {
            "text/plain": [
              "(158,)"
            ]
          },
          "metadata": {},
          "execution_count": 55
        }
      ]
    },
    {
      "cell_type": "code",
      "metadata": {
        "id": "ZuC5wBOegO3K"
      },
      "source": [
        "# need to have the LHS to forever change the shape\n",
        "X_train = X_train.reshape(158,1)\n",
        "Y_train = Y_train.reshape(158,1)"
      ],
      "execution_count": null,
      "outputs": []
    },
    {
      "cell_type": "code",
      "metadata": {
        "colab": {
          "base_uri": "https://localhost:8080/"
        },
        "id": "r3KlSwaxgO8w",
        "outputId": "edede06e-aa9e-4160-8802-1f8268e3be53"
      },
      "source": [
        "X_test.shape"
      ],
      "execution_count": null,
      "outputs": [
        {
          "output_type": "execute_result",
          "data": {
            "text/plain": [
              "(40,)"
            ]
          },
          "metadata": {},
          "execution_count": 59
        }
      ]
    },
    {
      "cell_type": "code",
      "metadata": {
        "id": "Wtt5FX88gO_9"
      },
      "source": [
        "X_test = X_test.reshape(40,1)\n",
        "Y_test = Y_test.reshape(40,1)"
      ],
      "execution_count": null,
      "outputs": []
    },
    {
      "cell_type": "code",
      "metadata": {
        "colab": {
          "base_uri": "https://localhost:8080/"
        },
        "id": "8RDvlJIxgPIg",
        "outputId": "a2405b6a-8a5d-41a3-ba84-590b05dea27f"
      },
      "source": [
        "# after reshape, we can start to train our model\n",
        "mymodelregr.fit(X_train,Y_train)\n",
        "# this line is called machine learning\n",
        "# your model is trying to learn the pattern from training set\n",
        "mymodelregr.fit"
      ],
      "execution_count": null,
      "outputs": [
        {
          "output_type": "execute_result",
          "data": {
            "text/plain": [
              "<bound method LinearRegression.fit of LinearRegression()>"
            ]
          },
          "metadata": {},
          "execution_count": 61
        }
      ]
    },
    {
      "cell_type": "code",
      "metadata": {
        "colab": {
          "base_uri": "https://localhost:8080/",
          "height": 303
        },
        "id": "bgO7kqDRh0kA",
        "outputId": "bb3bcba6-b7e4-42da-c1ff-a6eab230be32"
      },
      "source": [
        "plt.plot(Y_test,'r') # correct answer\n",
        "plt.plot(mymodelregr.predict(X_test),'b') # forecasting part\n",
        "#'r'=red 'b'=blue"
      ],
      "execution_count": null,
      "outputs": [
        {
          "output_type": "execute_result",
          "data": {
            "text/plain": [
              "[<matplotlib.lines.Line2D at 0x7ff45ff53650>]"
            ]
          },
          "metadata": {},
          "execution_count": 61
        },
        {
          "output_type": "display_data",
          "data": {
            "image/png": "[encoded data removed]",
            "text/plain": [
              "<Figure size 432x288 with 1 Axes>"
            ]
          },
          "metadata": {
            "needs_background": "light"
          }
        }
      ]
    },
    {
      "cell_type": "code",
      "metadata": {
        "id": "bCkJpHGfgPQQ"
      },
      "source": [],
      "execution_count": null,
      "outputs": []
    },
    {
      "cell_type": "markdown",
      "metadata": {
        "id": "X8bmwe_mEwXV"
      },
      "source": [
        "\n",
        "# **Question: Can we predict 40 days at once?**\n",
        "\n"
      ]
    },
    {
      "cell_type": "code",
      "metadata": {
        "id": "fTYU0mQQb-5J"
      },
      "source": [
        "import numpy as np\n",
        "x0 = X_test[0]\n",
        "x0 = x0.reshape(1,1)\n",
        "y_predict = np.array([])\n",
        "\n",
        "\n",
        "for i in range(40):\n",
        "  y0 = regr.predict(x0)\n",
        "  y_predict = np.append( y_predict,y0 )\n",
        "  x0 = y0\n",
        "\n"
      ],
      "execution_count": null,
      "outputs": []
    },
    {
      "cell_type": "code",
      "metadata": {
        "id": "ykOLyoCbBQra"
      },
      "source": [
        "y_40 = np.append(regr.predict(x_test),y_predict)"
      ],
      "execution_count": null,
      "outputs": []
    },
    {
      "cell_type": "code",
      "metadata": {
        "id": "KrJ82wqRBRIn"
      },
      "source": [
        "# np.append(regr.predict(x_test),y_predict)\n",
        "\n",
        "# correct answer\n",
        "plt.plot(Y_test,'r') \n",
        "# predict answer\n",
        "plt.plot(y_40,'b') "
      ],
      "execution_count": null,
      "outputs": []
    }
  ]
}