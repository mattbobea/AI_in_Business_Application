{
  "nbformat": 4,
  "nbformat_minor": 0,
  "metadata": {
    "colab": {
      "provenance": [],
      "collapsed_sections": [
        "KTctRVwEu9YO",
        "ufIelXf7uimv"
      ],
      "include_colab_link": true
    },
    "kernelspec": {
      "name": "python3",
      "display_name": "Python 3"
    },
    "language_info": {
      "name": "python"
    }
  },
  "cells": [
    {
      "cell_type": "markdown",
      "metadata": {
        "id": "view-in-github",
        "colab_type": "text"
      },
      "source": [
        "<a href=\"https://colab.research.google.com/github/mattbobea/AI_in_Business_Application-/blob/main/matapolib_demo.ipynb\" target=\"_parent\"><img src=\"https://colab.research.google.com/assets/colab-badge.svg\" alt=\"Open In Colab\"/></a>"
      ]
    },
    {
      "cell_type": "code",
      "execution_count": null,
      "metadata": {
        "id": "Njig2yIgo0Dr"
      },
      "outputs": [],
      "source": [
        "import matplotlib.pyplot as plt"
      ]
    },
    {
      "cell_type": "markdown",
      "source": [
        "## **Warm Up: Range**\n",
        "The range() function returns a sequence of numbers, starting from 0 by default, and increments by 1 (by default), and stops before a specified number.\n",
        "\n",
        "##Recall: *range(start, stop, step)*\n"
      ],
      "metadata": {
        "id": "KTctRVwEu9YO"
      }
    },
    {
      "cell_type": "code",
      "source": [
        "print(*range(1,11,1)) "
      ],
      "metadata": {
        "id": "mvCWL28gx2at",
        "colab": {
          "base_uri": "https://localhost:8080/"
        },
        "outputId": "e4a8e43b-d338-4355-c9c6-b79421f7a8b1"
      },
      "execution_count": null,
      "outputs": [
        {
          "output_type": "stream",
          "name": "stdout",
          "text": [
            "1 2 3 4 5 6 7 8 9 10\n"
          ]
        }
      ]
    },
    {
      "cell_type": "code",
      "source": [
        "print(*range(1,11,2)) "
      ],
      "metadata": {
        "id": "pQJToY9myY-a",
        "colab": {
          "base_uri": "https://localhost:8080/"
        },
        "outputId": "13320256-9156-4c89-ea91-9be4dad4f56e"
      },
      "execution_count": null,
      "outputs": [
        {
          "output_type": "stream",
          "name": "stdout",
          "text": [
            "1 3 5 7 9\n"
          ]
        }
      ]
    },
    {
      "cell_type": "code",
      "source": [
        "print(*range(0,11,2)) "
      ],
      "metadata": {
        "id": "XsnNoMXLybnc",
        "colab": {
          "base_uri": "https://localhost:8080/"
        },
        "outputId": "bcfe3a41-0f41-4ae1-94ce-b414c430110a"
      },
      "execution_count": null,
      "outputs": [
        {
          "output_type": "stream",
          "name": "stdout",
          "text": [
            "0 2 4 6 8 10\n"
          ]
        }
      ]
    },
    {
      "cell_type": "code",
      "source": [
        "print(*range(20)) "
      ],
      "metadata": {
        "id": "BVqx3IzCygJc",
        "colab": {
          "base_uri": "https://localhost:8080/"
        },
        "outputId": "b616537e-f0ca-4c2f-c189-dd6611296787"
      },
      "execution_count": null,
      "outputs": [
        {
          "output_type": "stream",
          "name": "stdout",
          "text": [
            "0 1 2 3 4 5 6 7 8 9 10 11 12 13 14 15 16 17 18 19\n"
          ]
        }
      ]
    },
    {
      "cell_type": "markdown",
      "source": [
        "also, the step can be negative..."
      ],
      "metadata": {
        "id": "tVWpqJCeykpb"
      }
    },
    {
      "cell_type": "code",
      "source": [
        "print(*range(10,0,-1)) "
      ],
      "metadata": {
        "id": "i97OHCXWypyd",
        "colab": {
          "base_uri": "https://localhost:8080/"
        },
        "outputId": "019113c8-4829-4dca-9b3a-f98d6c1ed833"
      },
      "execution_count": null,
      "outputs": [
        {
          "output_type": "stream",
          "name": "stdout",
          "text": [
            "10 9 8 7 6 5 4 3 2 1\n"
          ]
        }
      ]
    },
    {
      "cell_type": "markdown",
      "source": [
        "# **Workflow of matplotlib**\n",
        "Step1: Prepare Data\n",
        "\n",
        "Step2: Create Plot\n",
        "\n",
        "Step3: Plot\n",
        "\n",
        "Step4: Show Plot"
      ],
      "metadata": {
        "id": "eCzPaR0usVb1"
      }
    },
    {
      "cell_type": "markdown",
      "source": [
        "## **Step 1: Prepare Data**"
      ],
      "metadata": {
        "id": "fD7XgS6EsxxR"
      }
    },
    {
      "cell_type": "code",
      "source": [
        "x = [1, 2, 3, 4, 5]\n",
        "y = [5, 10, 20, 35, 45]\n",
        "x,y"
      ],
      "metadata": {
        "id": "WUjicrsirSy2",
        "colab": {
          "base_uri": "https://localhost:8080/"
        },
        "outputId": "8fabf844-33e2-467a-a05f-4b5873c3bde0"
      },
      "execution_count": null,
      "outputs": [
        {
          "output_type": "execute_result",
          "data": {
            "text/plain": [
              "([1, 2, 3, 4, 5], [5, 10, 20, 35, 45])"
            ]
          },
          "metadata": {},
          "execution_count": 7
        }
      ]
    },
    {
      "cell_type": "markdown",
      "source": [
        "## **Step2: Create Plot (Optional)**"
      ],
      "metadata": {
        "id": "LiTadtIBtRNX"
      }
    },
    {
      "cell_type": "code",
      "source": [
        "plt.figure(figsize=(4,6))"
      ],
      "metadata": {
        "id": "09kBQsnatByx",
        "colab": {
          "base_uri": "https://localhost:8080/",
          "height": 52
        },
        "outputId": "e68f5f5a-d779-4b6d-cc63-f6df0aa32574"
      },
      "execution_count": null,
      "outputs": [
        {
          "output_type": "execute_result",
          "data": {
            "text/plain": [
              "<Figure size 288x432 with 0 Axes>"
            ]
          },
          "metadata": {},
          "execution_count": 8
        },
        {
          "output_type": "display_data",
          "data": {
            "text/plain": [
              "<Figure size 288x432 with 0 Axes>"
            ]
          },
          "metadata": {}
        }
      ]
    },
    {
      "cell_type": "markdown",
      "source": [
        "## **Step3&4: Plot and show**"
      ],
      "metadata": {
        "id": "gK0svC7HtgfD"
      }
    },
    {
      "cell_type": "code",
      "source": [
        "plt.plot(x, y)\n",
        "plt.show"
      ],
      "metadata": {
        "id": "SgLkxAc3sL2v",
        "colab": {
          "base_uri": "https://localhost:8080/",
          "height": 282
        },
        "outputId": "fd8103d3-74c2-4162-ef8c-91269c52c816"
      },
      "execution_count": null,
      "outputs": [
        {
          "output_type": "execute_result",
          "data": {
            "text/plain": [
              "<function matplotlib.pyplot.show(*args, **kw)>"
            ]
          },
          "metadata": {},
          "execution_count": 9
        },
        {
          "output_type": "display_data",
          "data": {
            "text/plain": [
              "<Figure size 432x288 with 1 Axes>"
            ],
            "image/png": "[encoded data removed]"
          },
          "metadata": {
            "needs_background": "light"
          }
        }
      ]
    },
    {
      "cell_type": "markdown",
      "source": [
        "## **two and more line in a graph**"
      ],
      "metadata": {
        "id": "Iy0PMvtPtyFb"
      }
    },
    {
      "cell_type": "code",
      "source": [
        "x = [1, 2, 3, 4, 5]\n",
        "y1 = [5, 10, 20, 35, 45]\n",
        "y2 =range(25,0,-5) # [25, 20, 15, 10, 5]\n",
        "plt.figure(figsize=(4,6))\n",
        "plt.plot(x, y1)\n",
        "plt.plot(x, y2)\n",
        "plt.show"
      ],
      "metadata": {
        "id": "2BwBCk0BuBMB",
        "colab": {
          "base_uri": "https://localhost:8080/",
          "height": 391
        },
        "outputId": "710fdc06-d58a-4f47-d66d-bde5c848e578"
      },
      "execution_count": null,
      "outputs": [
        {
          "output_type": "execute_result",
          "data": {
            "text/plain": [
              "<function matplotlib.pyplot.show(*args, **kw)>"
            ]
          },
          "metadata": {},
          "execution_count": 12
        },
        {
          "output_type": "display_data",
          "data": {
            "text/plain": [
              "<Figure size 288x432 with 1 Axes>"
            ],
            "image/png": "[encoded data removed]"
          },
          "metadata": {
            "needs_background": "light"
          }
        }
      ]
    },
    {
      "cell_type": "markdown",
      "source": [
        "If we want to add more detail in our plot..."
      ],
      "metadata": {
        "id": "fM3tPMgHy3Eb"
      }
    },
    {
      "cell_type": "code",
      "source": [
        "x = [1, 2, 3, 4, 5]\n",
        "y1 = [5, 10, 20, 35, 45]\n",
        "y2 =range(25,0,-5) # [25, 20, 15, 10, 5]\n",
        "plt.figure(figsize=(4,6))\n",
        "plt.plot(x, y1, color = \"red\",        label=\"population\")\n",
        "plt.plot(x, y2, color = \"green\", marker='o', label=\"food\")\n",
        "plt.show"
      ],
      "metadata": {
        "id": "C4kGFWFszA5y",
        "colab": {
          "base_uri": "https://localhost:8080/",
          "height": 391
        },
        "outputId": "80deb21b-3f3e-4495-a337-7dfb53d88288"
      },
      "execution_count": null,
      "outputs": [
        {
          "output_type": "execute_result",
          "data": {
            "text/plain": [
              "<function matplotlib.pyplot.show(*args, **kw)>"
            ]
          },
          "metadata": {},
          "execution_count": 13
        },
        {
          "output_type": "display_data",
          "data": {
            "text/plain": [
              "<Figure size 288x432 with 1 Axes>"
            ],
            "image/png": "[encoded data removed]"
          },
          "metadata": {
            "needs_background": "light"
          }
        }
      ]
    },
    {
      "cell_type": "markdown",
      "source": [
        "\n",
        "# The list of Maker and Line Style：\n"
      ],
      "metadata": {
        "id": "ufIelXf7uimv"
      }
    },
    {
      "cell_type": "markdown",
      "source": [
        "'-'       solid line style\n",
        "\n",
        "'--'      dashed line style\n",
        "\n",
        "'-.'      dash-dot line style\n",
        "\n",
        "':'       dotted line style\n",
        "\n",
        "'.'       point marker\n",
        "\n",
        "','       pixel marker\n",
        "\n",
        "'o'       circle marker\n",
        "\n",
        "'v'       triangle_down marker\n",
        "\n",
        "'^'       triangle_up marker\n",
        "\n",
        "'<'       triangle_left marker\n",
        "\n",
        "'>'       triangle_right marker\n",
        "\n",
        "'1'       tri_down marker\n",
        "\n",
        "'2'       tri_up marker\n",
        "\n",
        "'3'       tri_left marker\n",
        "\n",
        "'4'       tri_right marker\n",
        "\n",
        "'s'       square marker\n",
        "\n",
        "'p'       pentagon marker\n",
        "\n",
        "'*'       star marker\n",
        "\n",
        "'h'       hexagon1 marker\n",
        "\n",
        "'H'       hexagon2 marker\n",
        "\n",
        "'+'       plus marker\n",
        "\n",
        "'x'       x marker\n",
        "\n",
        "'D'       diamond marker\n",
        "\n",
        "'d'       thin_diamond marker\n",
        "\n",
        "'|'       vline marker\n",
        "\n",
        "'_'       hline marker"
      ],
      "metadata": {
        "id": "1_Qd4Vpru8x_"
      }
    },
    {
      "cell_type": "markdown",
      "source": [
        "# To make the graph more claerly, **Legend and label of axis** is necessary:"
      ],
      "metadata": {
        "id": "GyMThnw50WgJ"
      }
    },
    {
      "cell_type": "code",
      "source": [
        "x = [1, 2, 3, 4, 5]\n",
        "y1 = [5, 10, 20, 35, 45]\n",
        "y2 =range(25,0,-5) # [25, 20, 15, 10, 5]\n",
        "plt.figure(figsize=(4,6))\n",
        "plt.plot(x,y1, color = \"red\",        linestyle = '--', label=\"population\")\n",
        "plt.plot(x,y2, color = \"green\", marker='o',           label=\"food\")\n",
        "plt.xlabel(\"x value\")\n",
        "plt.ylabel(\"y value\")\n",
        "plt.legend(loc = 'upper left') \n",
        "plt.show()"
      ],
      "metadata": {
        "id": "CwM2P8IKzqvo",
        "colab": {
          "base_uri": "https://localhost:8080/",
          "height": 388
        },
        "outputId": "6a7fa466-b50b-4ba4-8b4c-4d0934bc2a12"
      },
      "execution_count": null,
      "outputs": [
        {
          "output_type": "display_data",
          "data": {
            "text/plain": [
              "<Figure size 288x432 with 1 Axes>"
            ],
            "image/png": "[encoded data removed]"
          },
          "metadata": {
            "needs_background": "light"
          }
        }
      ]
    },
    {
      "cell_type": "markdown",
      "source": [
        "# **Try yourself!!**\n",
        "\n",
        "now we want to add a **blue** line called **\"Money\"** in our graph, and the legend should located at **upper right**. To emphasize that line, the line is composed of **dot** (using \":\") and instead of using circle to represent a point, we want to use **square** (\"s\").\n",
        "\n",
        "Moreover: the x,y label: should be change as **time** and **value** respectively.\n",
        "\n",
        "the data of money: **y3 = [2,4,15,8,10]**\n",
        "\n",
        "Look at the graph shown below.\n",
        "\n",
        "![image.png](data:image/png;base64,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)"
      ],
      "metadata": {
        "id": "doeuV-bO2Nfs"
      }
    },
    {
      "cell_type": "code",
      "source": [
        "##TODO: draw the same graph shown above\n",
        "##code goes here:\n",
        "x = [1, 2, 3, 4, 5]\n",
        "y1 = [5, 10, 20, 35, 45]\n",
        "y2 =range(25,0,-5) # [25, 20, 15, 10, 5]\n",
        "y3 = [2,4,15,8,10]\n",
        "plt.figure(figsize=(4,6))\n",
        "plt.plot(x,y1, color = \"red\", linestyle = '--', label=\"population\")\n",
        "plt.plot(x,y2, color = \"green\", marker= 'o',label=\"food\")\n",
        "plt.plot(x,y3, color = \"blue\", marker= 's', linestyle = ':', label=\"money\")\n",
        "plt.xlabel(\"time\")\n",
        "plt.ylabel(\"value\")\n",
        "plt.legend(loc = 'upper right') \n",
        "plt.show()"
      ],
      "metadata": {
        "id": "UhZhAnWC0tf-",
        "colab": {
          "base_uri": "https://localhost:8080/",
          "height": 388
        },
        "outputId": "69f6829a-35fd-45cc-92b3-9e973cf4bc83"
      },
      "execution_count": null,
      "outputs": [
        {
          "output_type": "display_data",
          "data": {
            "text/plain": [
              "<Figure size 288x432 with 1 Axes>"
            ],
            "image/png": "[encoded data removed]"
          },
          "metadata": {
            "needs_background": "light"
          }
        }
      ]
    }
  ]
}